{
 "cells": [
  {
   "cell_type": "code",
   "execution_count": 1,
   "id": "8230d6d6-6082-4c37-88af-17c07b9eeae0",
   "metadata": {},
   "outputs": [],
   "source": [
    "import logging\n",
    "#logging.getLogger(\"imperative_model\").setLevel(logging.DEBUG)\n",
    "#logging.basicConfig(level=logging.DEBUG)"
   ]
  },
  {
   "cell_type": "code",
   "execution_count": 12,
   "id": "574faa15-034d-4fda-90bf-6ef198f6289d",
   "metadata": {},
   "outputs": [
    {
     "name": "stdout",
     "output_type": "stream",
     "text": [
      "The autoreload extension is already loaded. To reload it, use:\n",
      "  %reload_ext autoreload\n"
     ]
    }
   ],
   "source": [
    "%load_ext autoreload\n",
    "%autoreload 2\n",
    "%run load_model.py"
   ]
  },
  {
   "cell_type": "code",
   "execution_count": 13,
   "id": "74fa1e3b-5957-4642-8e28-70ed0e570e5c",
   "metadata": {},
   "outputs": [
    {
     "data": {
      "text/plain": [
       "[Process(id='CCGT', produces=['Electricity'], consumes=['NaturalGas'], has_stock=False),\n",
       " Process(id='ElectricCarUse', produces=['TransportService'], consumes=['Electricity'], has_stock=False),\n",
       " Process(id='HydrogenElectrolysis', produces=['Hydrogen'], consumes=['Electricity'], has_stock=False),\n",
       " Process(id='SteelProductionEAF', produces=['Steel'], consumes=['Electricity'], has_stock=False),\n",
       " Process(id='SteelProductionH2DRI', produces=['Steel'], consumes=['Hydrogen'], has_stock=False),\n",
       " Process(id='WindTurbine', produces=['Electricity'], consumes=[], has_stock=False)]"
      ]
     },
     "execution_count": 13,
     "metadata": {},
     "output_type": "execute_result"
    }
   ],
   "source": [
    "model.processes"
   ]
  },
  {
   "cell_type": "code",
   "execution_count": 14,
   "id": "124e7f2a-3ec4-4598-9890-f541b26a742b",
   "metadata": {},
   "outputs": [
    {
     "data": {
      "text/plain": [
       "[Object(id='Electricity', metric=rdflib.term.URIRef('http://qudt.org/vocab/quantitykind/Energy'), has_market=True),\n",
       " Object(id='Hydrogen', metric=rdflib.term.URIRef('http://qudt.org/vocab/quantitykind/Mass'), has_market=True),\n",
       " Object(id='NaturalGas', metric=rdflib.term.URIRef('http://qudt.org/vocab/quantitykind/Mass'), has_market=False),\n",
       " Object(id='Steel', metric=rdflib.term.URIRef('http://qudt.org/vocab/quantitykind/Mass'), has_market=False),\n",
       " Object(id='TransportService', metric=rdflib.term.URIRef('http://c-thru.org/analyses/calculator/metrics/PassengerKM'), has_market=False)]"
      ]
     },
     "execution_count": 14,
     "metadata": {},
     "output_type": "execute_result"
    }
   ],
   "source": [
    "model.objects"
   ]
  },
  {
   "cell_type": "code",
   "execution_count": 19,
   "id": "50c7585c-5885-4095-b8be-31fde3a5a848",
   "metadata": {},
   "outputs": [
    {
     "data": {
      "text/html": [
       "<div>\n",
       "<style scoped>\n",
       "    .dataframe tbody tr th:only-of-type {\n",
       "        vertical-align: middle;\n",
       "    }\n",
       "\n",
       "    .dataframe tbody tr th {\n",
       "        vertical-align: top;\n",
       "    }\n",
       "\n",
       "    .dataframe thead th {\n",
       "        text-align: right;\n",
       "    }\n",
       "</style>\n",
       "<table border=\"1\" class=\"dataframe\">\n",
       "  <thead>\n",
       "    <tr style=\"text-align: right;\">\n",
       "      <th></th>\n",
       "      <th>source</th>\n",
       "      <th>target</th>\n",
       "      <th>material</th>\n",
       "      <th>metric</th>\n",
       "      <th>orig_value</th>\n",
       "    </tr>\n",
       "  </thead>\n",
       "  <tbody>\n",
       "    <tr>\n",
       "      <th>0</th>\n",
       "      <td>CCGT</td>\n",
       "      <td>Electricity</td>\n",
       "      <td>Electricity</td>\n",
       "      <td>http://qudt.org/vocab/quantitykind/Energy</td>\n",
       "      <td>44.9000000000000</td>\n",
       "    </tr>\n",
       "    <tr>\n",
       "      <th>1</th>\n",
       "      <td>ElectricCarUse</td>\n",
       "      <td>TransportService</td>\n",
       "      <td>TransportService</td>\n",
       "      <td>http://c-thru.org/analyses/calculator/metrics/...</td>\n",
       "      <td>2</td>\n",
       "    </tr>\n",
       "    <tr>\n",
       "      <th>2</th>\n",
       "      <td>HydrogenElectrolysis</td>\n",
       "      <td>Hydrogen</td>\n",
       "      <td>Hydrogen</td>\n",
       "      <td>http://qudt.org/vocab/quantitykind/Mass</td>\n",
       "      <td>11.0000000000000</td>\n",
       "    </tr>\n",
       "    <tr>\n",
       "      <th>3</th>\n",
       "      <td>SteelProductionEAF</td>\n",
       "      <td>Steel</td>\n",
       "      <td>Steel</td>\n",
       "      <td>http://qudt.org/vocab/quantitykind/Mass</td>\n",
       "      <td>5.00000000000000</td>\n",
       "    </tr>\n",
       "    <tr>\n",
       "      <th>4</th>\n",
       "      <td>SteelProductionH2DRI</td>\n",
       "      <td>Steel</td>\n",
       "      <td>Steel</td>\n",
       "      <td>http://qudt.org/vocab/quantitykind/Mass</td>\n",
       "      <td>5.00000000000000</td>\n",
       "    </tr>\n",
       "    <tr>\n",
       "      <th>5</th>\n",
       "      <td>WindTurbine</td>\n",
       "      <td>Electricity</td>\n",
       "      <td>Electricity</td>\n",
       "      <td>http://qudt.org/vocab/quantitykind/Energy</td>\n",
       "      <td>2.00000000000000</td>\n",
       "    </tr>\n",
       "    <tr>\n",
       "      <th>6</th>\n",
       "      <td>NaturalGas</td>\n",
       "      <td>CCGT</td>\n",
       "      <td>NaturalGas</td>\n",
       "      <td>http://qudt.org/vocab/quantitykind/Mass</td>\n",
       "      <td>19.5217391304348</td>\n",
       "    </tr>\n",
       "    <tr>\n",
       "      <th>7</th>\n",
       "      <td>Electricity</td>\n",
       "      <td>ElectricCarUse</td>\n",
       "      <td>Electricity</td>\n",
       "      <td>http://qudt.org/vocab/quantitykind/Energy</td>\n",
       "      <td>4.60000000000000</td>\n",
       "    </tr>\n",
       "    <tr>\n",
       "      <th>8</th>\n",
       "      <td>Electricity</td>\n",
       "      <td>HydrogenElectrolysis</td>\n",
       "      <td>Electricity</td>\n",
       "      <td>http://qudt.org/vocab/quantitykind/Energy</td>\n",
       "      <td>14.3000000000000</td>\n",
       "    </tr>\n",
       "    <tr>\n",
       "      <th>9</th>\n",
       "      <td>Electricity</td>\n",
       "      <td>SteelProductionEAF</td>\n",
       "      <td>Electricity</td>\n",
       "      <td>http://qudt.org/vocab/quantitykind/Energy</td>\n",
       "      <td>28.0000000000000</td>\n",
       "    </tr>\n",
       "    <tr>\n",
       "      <th>10</th>\n",
       "      <td>Hydrogen</td>\n",
       "      <td>SteelProductionH2DRI</td>\n",
       "      <td>Hydrogen</td>\n",
       "      <td>http://qudt.org/vocab/quantitykind/Mass</td>\n",
       "      <td>11.0000000000000</td>\n",
       "    </tr>\n",
       "  </tbody>\n",
       "</table>\n",
       "</div>"
      ],
      "text/plain": [
       "                  source                target          material  \\\n",
       "0                   CCGT           Electricity       Electricity   \n",
       "1         ElectricCarUse      TransportService  TransportService   \n",
       "2   HydrogenElectrolysis              Hydrogen          Hydrogen   \n",
       "3     SteelProductionEAF                 Steel             Steel   \n",
       "4   SteelProductionH2DRI                 Steel             Steel   \n",
       "5            WindTurbine           Electricity       Electricity   \n",
       "6             NaturalGas                  CCGT        NaturalGas   \n",
       "7            Electricity        ElectricCarUse       Electricity   \n",
       "8            Electricity  HydrogenElectrolysis       Electricity   \n",
       "9            Electricity    SteelProductionEAF       Electricity   \n",
       "10              Hydrogen  SteelProductionH2DRI          Hydrogen   \n",
       "\n",
       "                                               metric        orig_value  \n",
       "0           http://qudt.org/vocab/quantitykind/Energy  44.9000000000000  \n",
       "1   http://c-thru.org/analyses/calculator/metrics/...                 2  \n",
       "2             http://qudt.org/vocab/quantitykind/Mass  11.0000000000000  \n",
       "3             http://qudt.org/vocab/quantitykind/Mass  5.00000000000000  \n",
       "4             http://qudt.org/vocab/quantitykind/Mass  5.00000000000000  \n",
       "5           http://qudt.org/vocab/quantitykind/Energy  2.00000000000000  \n",
       "6             http://qudt.org/vocab/quantitykind/Mass  19.5217391304348  \n",
       "7           http://qudt.org/vocab/quantitykind/Energy  4.60000000000000  \n",
       "8           http://qudt.org/vocab/quantitykind/Energy  14.3000000000000  \n",
       "9           http://qudt.org/vocab/quantitykind/Energy  28.0000000000000  \n",
       "10            http://qudt.org/vocab/quantitykind/Mass  11.0000000000000  "
      ]
     },
     "execution_count": 19,
     "metadata": {},
     "output_type": "execute_result"
    }
   ],
   "source": [
    "flows = solution_to_flows(model, {\"Z_1\": 10, \"Z_2\": 2, \"S_1\": 2, \"a_1\": 0.5}).rename(columns={\"value\": \"orig_value\"})\n",
    "flows"
   ]
  },
  {
   "cell_type": "code",
   "execution_count": 20,
   "id": "da46dee1-37d1-48f2-8459-9d48efc0694e",
   "metadata": {
    "tags": []
   },
   "outputs": [],
   "source": [
    "energy_density = {\n",
    "    \"Electricity\": 1,\n",
    "    \"TransportService\": 0,\n",
    "    \"Hydrogen\": recipe_data[model.U[0, 2]] / recipe_data[model.S[1, 2]],\n",
    "    \"NaturalGas\": recipe_data[model.S[0, 0]] / recipe_data[model.U[2, 0]],\n",
    "    \"Steel\": 0.1,\n",
    "    \n",
    "}\n",
    "flows[\"value\"] = flows[\"orig_value\"] * flows[\"material\"].map(lambda m: energy_density[m])"
   ]
  },
  {
   "cell_type": "code",
   "execution_count": 21,
   "id": "66b95b1b-99be-4045-9d5f-f1a3188fe150",
   "metadata": {},
   "outputs": [
    {
     "data": {
      "application/vnd.jupyter.widget-view+json": {
       "model_id": "7a829c1e21bf46e682b0b4ad5054869c",
       "version_major": 2,
       "version_minor": 0
      },
      "text/plain": [
       "SankeyWidget(layout=Layout(height='300', width='1000'), links=[{'source': 'CCGT', 'target': 'Electricity', 'ma…"
      ]
     },
     "metadata": {},
     "output_type": "display_data"
    }
   ],
   "source": [
    "from ipysankeywidget import SankeyWidget\n",
    "from ipywidgets import Layout\n",
    "w = SankeyWidget(links=flows.to_dict(orient='records'), layout=Layout(width=\"1000\", height=\"300\"))\n",
    "w.order = [\n",
    "    [\"NaturalGas\"],\n",
    "    [\"CCGT\", \"WindTurbine\"],\n",
    "    [\"Electricity\"],\n",
    "    [\"HydrogenElectrolysis\", \"ElectricCarUse\"],\n",
    "    [\"Hydrogen\", \"TransportService\"],\n",
    "    [\"SteelProductionH2DRI\", \"SteelProductionEAF\",],\n",
    "    [\"Steel\"],\n",
    "]\n",
    "w"
   ]
  },
  {
   "cell_type": "code",
   "execution_count": 23,
   "id": "41ea6442-b3a2-4a97-9604-77aabbd4d784",
   "metadata": {},
   "outputs": [
    {
     "data": {
      "application/vnd.jupyter.widget-view+json": {
       "model_id": "ba90d53408244e89b757dc06f9a1f199",
       "version_major": 2,
       "version_minor": 0
      },
      "text/plain": [
       "interactive(children=(FloatSlider(value=5.0, description='d1', max=10.0), FloatSlider(value=2.0, description='…"
      ]
     },
     "metadata": {},
     "output_type": "display_data"
    }
   ],
   "source": [
    "from ipywidgets import interact\n",
    "\n",
    "@interact(d1=(0., 10.), d2=(0., 10.), s1=(0., 30.), a1=(0., 1.))\n",
    "def calc_flows(d1=5.0, d2=2.0, s1=2.0, a1=0.5):\n",
    "    flows = solution_to_flows(model, {\"Z_1\": d1, \"Z_2\": d2, \"S_1\": s1, \"a_1\": a1}).rename(columns={\"value\": \"orig_value\"})\n",
    "    flows[\"value\"] = flows[\"orig_value\"] * flows[\"material\"].map(lambda m: energy_density[m])\n",
    "    w.links = flows.to_dict(orient='records')"
   ]
  },
  {
   "cell_type": "code",
   "execution_count": 27,
   "id": "b21c0699-c0ce-4bc3-a59a-c8777976783d",
   "metadata": {},
   "outputs": [],
   "source": [
    "from IPython.display import display"
   ]
  },
  {
   "cell_type": "code",
   "execution_count": 28,
   "id": "d90c41cf-17f9-4892-b9f8-c3d1af085801",
   "metadata": {},
   "outputs": [
    {
     "name": "stdout",
     "output_type": "stream",
     "text": [
      "Process output: CCGT\n"
     ]
    },
    {
     "data": {
      "text/latex": [
       "$\\displaystyle \\frac{\\max\\left(0, - S_{0,5} \\left(\\begin{cases} 0 & \\text{for}\\: \\frac{U_{0,3} Z_{1} a_{1}}{S_{3,3}} + \\frac{U_{0,2} U_{1,4} Z_{1} \\cdot \\left(1 - a_{1}\\right)}{S_{1,2} S_{3,4}} \\leq 0 \\\\Z_{2} & \\text{for}\\: Z_{2} \\leq \\frac{U_{0,3} Z_{1} a_{1}}{S_{3,3}} + \\frac{U_{0,2} U_{1,4} Z_{1} \\cdot \\left(1 - a_{1}\\right)}{S_{1,2} S_{3,4}} \\\\\\frac{\\frac{U_{0,3} Z_{1} a_{1}}{S_{3,3}} + \\frac{U_{0,2} U_{1,4} Z_{1} \\cdot \\left(1 - a_{1}\\right)}{S_{1,2} S_{3,4}}}{S_{0,5}} & \\text{otherwise} \\end{cases}\\right) + \\frac{U_{0,3} Z_{1} a_{1}}{S_{3,3}} + \\frac{U_{0,2} U_{1,4} Z_{1} \\cdot \\left(1 - a_{1}\\right)}{S_{1,2} S_{3,4}}\\right)}{S_{0,0}}$"
      ],
      "text/plain": [
       "Max(0, -S_0,5*Piecewise((0, U_0,3*Z_1*a_1/S_3,3 + U_0,2*U_1,4*Z_1*(1 - a_1)/(S_1,2*S_3,4) <= 0), (Z_2, Z_2 <= U_0,3*Z_1*a_1/S_3,3 + U_0,2*U_1,4*Z_1*(1 - a_1)/(S_1,2*S_3,4)), ((U_0,3*Z_1*a_1/S_3,3 + U_0,2*U_1,4*Z_1*(1 - a_1)/(S_1,2*S_3,4))/S_0,5, True)) + U_0,3*Z_1*a_1/S_3,3 + U_0,2*U_1,4*Z_1*(1 - a_1)/(S_1,2*S_3,4))/S_0,0"
      ]
     },
     "metadata": {},
     "output_type": "display_data"
    },
    {
     "name": "stdout",
     "output_type": "stream",
     "text": [
      "History: Supply from CCGT (second choice)\n",
      "\n",
      "\n",
      "Process output: ElectricCarUse\n"
     ]
    },
    {
     "data": {
      "text/latex": [
       "$\\displaystyle 0$"
      ],
      "text/plain": [
       "0"
      ]
     },
     "metadata": {},
     "output_type": "display_data"
    },
    {
     "name": "stdout",
     "output_type": "stream",
     "text": [
      "History: \n",
      "\n",
      "\n",
      "Process output: HydrogenElectrolysis\n"
     ]
    },
    {
     "data": {
      "text/latex": [
       "$\\displaystyle \\frac{U_{1,4} Z_{1} \\cdot \\left(1 - a_{1}\\right)}{S_{1,2} S_{3,4}}$"
      ],
      "text/plain": [
       "U_1,4*Z_1*(1 - a_1)/(S_1,2*S_3,4)"
      ]
     },
     "metadata": {},
     "output_type": "display_data"
    },
    {
     "name": "stdout",
     "output_type": "stream",
     "text": [
      "History: Demand for steel\n",
      "\n",
      "\n",
      "Process output: SteelProductionEAF\n"
     ]
    },
    {
     "data": {
      "text/latex": [
       "$\\displaystyle \\frac{Z_{1} a_{1}}{S_{3,3}}$"
      ],
      "text/plain": [
       "Z_1*a_1/S_3,3"
      ]
     },
     "metadata": {},
     "output_type": "display_data"
    },
    {
     "name": "stdout",
     "output_type": "stream",
     "text": [
      "History: Demand for steel\n",
      "\n",
      "\n",
      "Process output: SteelProductionH2DRI\n"
     ]
    },
    {
     "data": {
      "text/latex": [
       "$\\displaystyle \\frac{Z_{1} \\cdot \\left(1 - a_{1}\\right)}{S_{3,4}}$"
      ],
      "text/plain": [
       "Z_1*(1 - a_1)/S_3,4"
      ]
     },
     "metadata": {},
     "output_type": "display_data"
    },
    {
     "name": "stdout",
     "output_type": "stream",
     "text": [
      "History: Demand for steel\n",
      "\n",
      "\n",
      "Process output: WindTurbine\n"
     ]
    },
    {
     "data": {
      "text/latex": [
       "$\\displaystyle \\begin{cases} 0 & \\text{for}\\: \\frac{U_{0,3} Z_{1} a_{1}}{S_{3,3}} + \\frac{U_{0,2} U_{1,4} Z_{1} \\cdot \\left(1 - a_{1}\\right)}{S_{1,2} S_{3,4}} \\leq 0 \\\\Z_{2} & \\text{for}\\: Z_{2} \\leq \\frac{U_{0,3} Z_{1} a_{1}}{S_{3,3}} + \\frac{U_{0,2} U_{1,4} Z_{1} \\cdot \\left(1 - a_{1}\\right)}{S_{1,2} S_{3,4}} \\\\\\frac{\\frac{U_{0,3} Z_{1} a_{1}}{S_{3,3}} + \\frac{U_{0,2} U_{1,4} Z_{1} \\cdot \\left(1 - a_{1}\\right)}{S_{1,2} S_{3,4}}}{S_{0,5}} & \\text{otherwise} \\end{cases}$"
      ],
      "text/plain": [
       "Piecewise((0, U_0,3*Z_1*a_1/S_3,3 + U_0,2*U_1,4*Z_1*(1 - a_1)/(S_1,2*S_3,4) <= 0), (Z_2, Z_2 <= U_0,3*Z_1*a_1/S_3,3 + U_0,2*U_1,4*Z_1*(1 - a_1)/(S_1,2*S_3,4)), ((U_0,3*Z_1*a_1/S_3,3 + U_0,2*U_1,4*Z_1*(1 - a_1)/(S_1,2*S_3,4))/S_0,5, True))"
      ]
     },
     "metadata": {},
     "output_type": "display_data"
    },
    {
     "name": "stdout",
     "output_type": "stream",
     "text": [
      "History: Supply from wind turbines (first choice)\n",
      "\n",
      "\n"
     ]
    }
   ],
   "source": [
    "for j, sym in model.Y.items():\n",
    "    print(\"Process output: %s\" % model.processes[j].id)\n",
    "    display(model[sym])\n",
    "    print(\"History:\", \"\\n\".join(model.get_history(sym)))\n",
    "    print(\"\\n\")"
   ]
  },
  {
   "cell_type": "code",
   "execution_count": null,
   "id": "aace24b4-0113-486d-804e-ef90151d1460",
   "metadata": {},
   "outputs": [],
   "source": []
  }
 ],
 "metadata": {
  "kernelspec": {
   "display_name": "Python 3 (ipykernel)",
   "language": "python",
   "name": "python3"
  },
  "language_info": {
   "codemirror_mode": {
    "name": "ipython",
    "version": 3
   },
   "file_extension": ".py",
   "mimetype": "text/x-python",
   "name": "python",
   "nbconvert_exporter": "python",
   "pygments_lexer": "ipython3",
   "version": "3.10.10"
  }
 },
 "nbformat": 4,
 "nbformat_minor": 5
}
