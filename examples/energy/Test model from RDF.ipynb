{
 "cells": [
  {
   "cell_type": "code",
   "execution_count": 1,
   "id": "8230d6d6-6082-4c37-88af-17c07b9eeae0",
   "metadata": {},
   "outputs": [],
   "source": [
    "import logging\n",
    "#logging.getLogger(\"imperative_model\").setLevel(logging.DEBUG)\n",
    "#logging.basicConfig(level=logging.DEBUG)"
   ]
  },
  {
   "cell_type": "code",
   "execution_count": 12,
   "id": "574faa15-034d-4fda-90bf-6ef198f6289d",
   "metadata": {},
   "outputs": [
    {
     "name": "stdout",
     "output_type": "stream",
     "text": [
      "The autoreload extension is already loaded. To reload it, use:\n",
      "  %reload_ext autoreload\n"
     ]
    }
   ],
   "source": [
    "%load_ext autoreload\n",
    "%autoreload 2\n",
    "%run load_model.py"
   ]
  },
  {
   "cell_type": "code",
   "execution_count": 13,
   "id": "74fa1e3b-5957-4642-8e28-70ed0e570e5c",
   "metadata": {},
   "outputs": [
    {
     "data": {
      "text/plain": [
       "[Process(id='CCGT', produces=['Electricity'], consumes=['NaturalGas'], has_stock=False),\n",
       " Process(id='ElectricCarUse', produces=[], consumes=['Electricity'], has_stock=False),\n",
       " Process(id='HydrogenElectrolysis', produces=['Hydrogen'], consumes=['Electricity'], has_stock=False),\n",
       " Process(id='SteelProductionEAF', produces=['Steel'], consumes=['Electricity'], has_stock=False),\n",
       " Process(id='SteelProductionH2DRI', produces=['Steel'], consumes=['Hydrogen'], has_stock=False),\n",
       " Process(id='WindTurbine', produces=['Electricity'], consumes=[], has_stock=False)]"
      ]
     },
     "execution_count": 13,
     "metadata": {},
     "output_type": "execute_result"
    }
   ],
   "source": [
    "model.processes"
   ]
  },
  {
   "cell_type": "code",
   "execution_count": 14,
   "id": "124e7f2a-3ec4-4598-9890-f541b26a742b",
   "metadata": {},
   "outputs": [
    {
     "data": {
      "text/plain": [
       "[Object(id='Electricity', has_market=True),\n",
       " Object(id='Hydrogen', has_market=True),\n",
       " Object(id='NaturalGas', has_market=False),\n",
       " Object(id='Steel', has_market=False)]"
      ]
     },
     "execution_count": 14,
     "metadata": {},
     "output_type": "execute_result"
    }
   ],
   "source": [
    "model.objects"
   ]
  },
  {
   "cell_type": "code",
   "execution_count": 15,
   "id": "50c7585c-5885-4095-b8be-31fde3a5a848",
   "metadata": {},
   "outputs": [
    {
     "data": {
      "text/html": [
       "<div>\n",
       "<style scoped>\n",
       "    .dataframe tbody tr th:only-of-type {\n",
       "        vertical-align: middle;\n",
       "    }\n",
       "\n",
       "    .dataframe tbody tr th {\n",
       "        vertical-align: top;\n",
       "    }\n",
       "\n",
       "    .dataframe thead th {\n",
       "        text-align: right;\n",
       "    }\n",
       "</style>\n",
       "<table border=\"1\" class=\"dataframe\">\n",
       "  <thead>\n",
       "    <tr style=\"text-align: right;\">\n",
       "      <th></th>\n",
       "      <th>source</th>\n",
       "      <th>target</th>\n",
       "      <th>material</th>\n",
       "      <th>value</th>\n",
       "    </tr>\n",
       "  </thead>\n",
       "  <tbody>\n",
       "    <tr>\n",
       "      <th>0</th>\n",
       "      <td>CCGT</td>\n",
       "      <td>Electricity</td>\n",
       "      <td>Electricity</td>\n",
       "      <td>8.00000000000000</td>\n",
       "    </tr>\n",
       "    <tr>\n",
       "      <th>1</th>\n",
       "      <td>HydrogenElectrolysis</td>\n",
       "      <td>Hydrogen</td>\n",
       "      <td>Hydrogen</td>\n",
       "      <td>5.00000000000000</td>\n",
       "    </tr>\n",
       "    <tr>\n",
       "      <th>2</th>\n",
       "      <td>SteelProductionEAF</td>\n",
       "      <td>Steel</td>\n",
       "      <td>Steel</td>\n",
       "      <td>5.00000000000000</td>\n",
       "    </tr>\n",
       "    <tr>\n",
       "      <th>3</th>\n",
       "      <td>SteelProductionH2DRI</td>\n",
       "      <td>Steel</td>\n",
       "      <td>Steel</td>\n",
       "      <td>5.00000000000000</td>\n",
       "    </tr>\n",
       "    <tr>\n",
       "      <th>4</th>\n",
       "      <td>WindTurbine</td>\n",
       "      <td>Electricity</td>\n",
       "      <td>Electricity</td>\n",
       "      <td>2.00000000000000</td>\n",
       "    </tr>\n",
       "    <tr>\n",
       "      <th>5</th>\n",
       "      <td>NaturalGas</td>\n",
       "      <td>CCGT</td>\n",
       "      <td>NaturalGas</td>\n",
       "      <td>8.00000000000000</td>\n",
       "    </tr>\n",
       "    <tr>\n",
       "      <th>6</th>\n",
       "      <td>Electricity</td>\n",
       "      <td>ElectricCarUse</td>\n",
       "      <td>Electricity</td>\n",
       "      <td>0</td>\n",
       "    </tr>\n",
       "    <tr>\n",
       "      <th>7</th>\n",
       "      <td>Electricity</td>\n",
       "      <td>HydrogenElectrolysis</td>\n",
       "      <td>Electricity</td>\n",
       "      <td>5.00000000000000</td>\n",
       "    </tr>\n",
       "    <tr>\n",
       "      <th>8</th>\n",
       "      <td>Electricity</td>\n",
       "      <td>SteelProductionEAF</td>\n",
       "      <td>Electricity</td>\n",
       "      <td>5.00000000000000</td>\n",
       "    </tr>\n",
       "    <tr>\n",
       "      <th>9</th>\n",
       "      <td>Hydrogen</td>\n",
       "      <td>SteelProductionH2DRI</td>\n",
       "      <td>Hydrogen</td>\n",
       "      <td>5.00000000000000</td>\n",
       "    </tr>\n",
       "  </tbody>\n",
       "</table>\n",
       "</div>"
      ],
      "text/plain": [
       "                 source                target     material             value\n",
       "0                  CCGT           Electricity  Electricity  8.00000000000000\n",
       "1  HydrogenElectrolysis              Hydrogen     Hydrogen  5.00000000000000\n",
       "2    SteelProductionEAF                 Steel        Steel  5.00000000000000\n",
       "3  SteelProductionH2DRI                 Steel        Steel  5.00000000000000\n",
       "4           WindTurbine           Electricity  Electricity  2.00000000000000\n",
       "5            NaturalGas                  CCGT   NaturalGas  8.00000000000000\n",
       "6           Electricity        ElectricCarUse  Electricity                 0\n",
       "7           Electricity  HydrogenElectrolysis  Electricity  5.00000000000000\n",
       "8           Electricity    SteelProductionEAF  Electricity  5.00000000000000\n",
       "9              Hydrogen  SteelProductionH2DRI     Hydrogen  5.00000000000000"
      ]
     },
     "execution_count": 15,
     "metadata": {},
     "output_type": "execute_result"
    }
   ],
   "source": [
    "flows = solution_to_flows(model, {\"Z_1\": 10, \"Z_2\": 2, \"a_1\": 0.5})\n",
    "flows"
   ]
  },
  {
   "cell_type": "code",
   "execution_count": 16,
   "id": "66b95b1b-99be-4045-9d5f-f1a3188fe150",
   "metadata": {},
   "outputs": [
    {
     "data": {
      "application/vnd.jupyter.widget-view+json": {
       "model_id": "0ae8b6e30e034c3ea04d5c463c913012",
       "version_major": 2,
       "version_minor": 0
      },
      "text/plain": [
       "SankeyWidget(layout=Layout(height='300', width='1000'), links=[{'source': 'CCGT', 'target': 'Electricity', 'ma…"
      ]
     },
     "execution_count": 16,
     "metadata": {},
     "output_type": "execute_result"
    }
   ],
   "source": [
    "from ipysankeywidget import SankeyWidget\n",
    "from ipywidgets import Layout\n",
    "w = SankeyWidget(links=flows.to_dict(orient='records'), layout=Layout(width=\"1000\", height=\"300\"))\n",
    "w.order = [\n",
    "    [\"NaturalGas\"],\n",
    "    [\"CCGT\", \"WindTurbine\"],\n",
    "    [\"Electricity\"],\n",
    "    [\"HydrogenElectrolysis\"],\n",
    "    [\"Hydrogen\"],\n",
    "    [\"SteelProductionH2DRI\", \"SteelProductionEAF\",],\n",
    "    [\"Steel\"],\n",
    "]\n",
    "w"
   ]
  },
  {
   "cell_type": "code",
   "execution_count": 9,
   "id": "41ea6442-b3a2-4a97-9604-77aabbd4d784",
   "metadata": {},
   "outputs": [
    {
     "data": {
      "application/vnd.jupyter.widget-view+json": {
       "model_id": "c84c1a3c90f04e4c84df1795708656c6",
       "version_major": 2,
       "version_minor": 0
      },
      "text/plain": [
       "interactive(children=(FloatSlider(value=5.0, description='d1', max=10.0), FloatSlider(value=2.0, description='…"
      ]
     },
     "metadata": {},
     "output_type": "display_data"
    }
   ],
   "source": [
    "from ipywidgets import interact\n",
    "\n",
    "@interact(d1=(0., 10.), d2=(0., 10.), a1=(0., 1.))\n",
    "def calc_flows(d1=5.0, d2=2.0, a1=0.5):\n",
    "    flows = solution_to_flows(model, {\"Z_1\": d1, \"Z_2\": d2, \"a_1\": a1})\n",
    "    w.links = flows.to_dict(orient='records')"
   ]
  },
  {
   "cell_type": "code",
   "execution_count": 10,
   "id": "b21c0699-c0ce-4bc3-a59a-c8777976783d",
   "metadata": {},
   "outputs": [],
   "source": [
    "from IPython.display import display"
   ]
  },
  {
   "cell_type": "code",
   "execution_count": 11,
   "id": "d90c41cf-17f9-4892-b9f8-c3d1af085801",
   "metadata": {},
   "outputs": [
    {
     "name": "stdout",
     "output_type": "stream",
     "text": [
      "Process output: CCGT\n"
     ]
    },
    {
     "data": {
      "text/latex": [
       "$\\displaystyle \\frac{\\max\\left(0, - S_{0,4} \\left(\\begin{cases} 0 & \\text{for}\\: \\frac{U_{0,2} Z_{1} a_{1}}{S_{3,2}} + \\frac{U_{0,1} U_{1,3} Z_{1} \\cdot \\left(1 - a_{1}\\right)}{S_{1,1} S_{3,3}} \\leq 0 \\\\Z_{2} & \\text{for}\\: Z_{2} \\leq \\frac{U_{0,2} Z_{1} a_{1}}{S_{3,2}} + \\frac{U_{0,1} U_{1,3} Z_{1} \\cdot \\left(1 - a_{1}\\right)}{S_{1,1} S_{3,3}} \\\\\\frac{\\frac{U_{0,2} Z_{1} a_{1}}{S_{3,2}} + \\frac{U_{0,1} U_{1,3} Z_{1} \\cdot \\left(1 - a_{1}\\right)}{S_{1,1} S_{3,3}}}{S_{0,4}} & \\text{otherwise} \\end{cases}\\right) + \\frac{U_{0,2} Z_{1} a_{1}}{S_{3,2}} + \\frac{U_{0,1} U_{1,3} Z_{1} \\cdot \\left(1 - a_{1}\\right)}{S_{1,1} S_{3,3}}\\right)}{S_{0,0}}$"
      ],
      "text/plain": [
       "Max(0, -S_0,4*Piecewise((0, U_0,2*Z_1*a_1/S_3,2 + U_0,1*U_1,3*Z_1*(1 - a_1)/(S_1,1*S_3,3) <= 0), (Z_2, Z_2 <= U_0,2*Z_1*a_1/S_3,2 + U_0,1*U_1,3*Z_1*(1 - a_1)/(S_1,1*S_3,3)), ((U_0,2*Z_1*a_1/S_3,2 + U_0,1*U_1,3*Z_1*(1 - a_1)/(S_1,1*S_3,3))/S_0,4, True)) + U_0,2*Z_1*a_1/S_3,2 + U_0,1*U_1,3*Z_1*(1 - a_1)/(S_1,1*S_3,3))/S_0,0"
      ]
     },
     "metadata": {},
     "output_type": "display_data"
    },
    {
     "name": "stdout",
     "output_type": "stream",
     "text": [
      "History: Supply from CCGT (second choice)\n",
      "\n",
      "\n",
      "Process output: HydrogenElectrolysis\n"
     ]
    },
    {
     "data": {
      "text/latex": [
       "$\\displaystyle \\frac{U_{1,3} Z_{1} \\cdot \\left(1 - a_{1}\\right)}{S_{1,1} S_{3,3}}$"
      ],
      "text/plain": [
       "U_1,3*Z_1*(1 - a_1)/(S_1,1*S_3,3)"
      ]
     },
     "metadata": {},
     "output_type": "display_data"
    },
    {
     "name": "stdout",
     "output_type": "stream",
     "text": [
      "History: Demand for steel\n",
      "\n",
      "\n",
      "Process output: SteelProductionEAF\n"
     ]
    },
    {
     "data": {
      "text/latex": [
       "$\\displaystyle \\frac{Z_{1} a_{1}}{S_{3,2}}$"
      ],
      "text/plain": [
       "Z_1*a_1/S_3,2"
      ]
     },
     "metadata": {},
     "output_type": "display_data"
    },
    {
     "name": "stdout",
     "output_type": "stream",
     "text": [
      "History: Demand for steel\n",
      "\n",
      "\n",
      "Process output: SteelProductionH2DRI\n"
     ]
    },
    {
     "data": {
      "text/latex": [
       "$\\displaystyle \\frac{Z_{1} \\cdot \\left(1 - a_{1}\\right)}{S_{3,3}}$"
      ],
      "text/plain": [
       "Z_1*(1 - a_1)/S_3,3"
      ]
     },
     "metadata": {},
     "output_type": "display_data"
    },
    {
     "name": "stdout",
     "output_type": "stream",
     "text": [
      "History: Demand for steel\n",
      "\n",
      "\n",
      "Process output: WindTurbine\n"
     ]
    },
    {
     "data": {
      "text/latex": [
       "$\\displaystyle \\begin{cases} 0 & \\text{for}\\: \\frac{U_{0,2} Z_{1} a_{1}}{S_{3,2}} + \\frac{U_{0,1} U_{1,3} Z_{1} \\cdot \\left(1 - a_{1}\\right)}{S_{1,1} S_{3,3}} \\leq 0 \\\\Z_{2} & \\text{for}\\: Z_{2} \\leq \\frac{U_{0,2} Z_{1} a_{1}}{S_{3,2}} + \\frac{U_{0,1} U_{1,3} Z_{1} \\cdot \\left(1 - a_{1}\\right)}{S_{1,1} S_{3,3}} \\\\\\frac{\\frac{U_{0,2} Z_{1} a_{1}}{S_{3,2}} + \\frac{U_{0,1} U_{1,3} Z_{1} \\cdot \\left(1 - a_{1}\\right)}{S_{1,1} S_{3,3}}}{S_{0,4}} & \\text{otherwise} \\end{cases}$"
      ],
      "text/plain": [
       "Piecewise((0, U_0,2*Z_1*a_1/S_3,2 + U_0,1*U_1,3*Z_1*(1 - a_1)/(S_1,1*S_3,3) <= 0), (Z_2, Z_2 <= U_0,2*Z_1*a_1/S_3,2 + U_0,1*U_1,3*Z_1*(1 - a_1)/(S_1,1*S_3,3)), ((U_0,2*Z_1*a_1/S_3,2 + U_0,1*U_1,3*Z_1*(1 - a_1)/(S_1,1*S_3,3))/S_0,4, True))"
      ]
     },
     "metadata": {},
     "output_type": "display_data"
    },
    {
     "name": "stdout",
     "output_type": "stream",
     "text": [
      "History: Supply from wind turbines (first choice)\n",
      "\n",
      "\n"
     ]
    }
   ],
   "source": [
    "for j, sym in model.Y.items():\n",
    "    print(\"Process output: %s\" % model.processes[j].id)\n",
    "    display(model[sym])\n",
    "    print(\"History:\", \"\\n\".join(model.get_history(sym)))\n",
    "    print(\"\\n\")"
   ]
  },
  {
   "cell_type": "code",
   "execution_count": null,
   "id": "aace24b4-0113-486d-804e-ef90151d1460",
   "metadata": {},
   "outputs": [],
   "source": []
  }
 ],
 "metadata": {
  "kernelspec": {
   "display_name": "Python 3 (ipykernel)",
   "language": "python",
   "name": "python3"
  },
  "language_info": {
   "codemirror_mode": {
    "name": "ipython",
    "version": 3
   },
   "file_extension": ".py",
   "mimetype": "text/x-python",
   "name": "python",
   "nbconvert_exporter": "python",
   "pygments_lexer": "ipython3",
   "version": "3.10.10"
  }
 },
 "nbformat": 4,
 "nbformat_minor": 5
}
