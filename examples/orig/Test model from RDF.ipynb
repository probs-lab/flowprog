{
 "cells": [
  {
   "cell_type": "code",
   "execution_count": 10,
   "id": "8230d6d6-6082-4c37-88af-17c07b9eeae0",
   "metadata": {},
   "outputs": [],
   "source": [
    "import logging\n",
    "#logging.getLogger(\"imperative_model\").setLevel(logging.DEBUG)\n",
    "#logging.basicConfig(level=logging.DEBUG)"
   ]
  },
  {
   "cell_type": "code",
   "execution_count": 11,
   "id": "574faa15-034d-4fda-90bf-6ef198f6289d",
   "metadata": {},
   "outputs": [
    {
     "name": "stdout",
     "output_type": "stream",
     "text": [
      "The autoreload extension is already loaded. To reload it, use:\n",
      "  %reload_ext autoreload\n"
     ]
    }
   ],
   "source": [
    "%run repl_load_model.ipy"
   ]
  },
  {
   "cell_type": "code",
   "execution_count": 12,
   "id": "74fa1e3b-5957-4642-8e28-70ed0e570e5c",
   "metadata": {},
   "outputs": [
    {
     "data": {
      "text/plain": [
       "[Process(id='AmmoniaSynthesis', produces=['Ammonia'], consumes=['Hydrogen', 'Nitrogen'], has_stock=False),\n",
       " Process(id='ExtractCO2FromAtmosphere', produces=['CO2'], consumes=['AtmosphericCO2'], has_stock=False),\n",
       " Process(id='HydrogenSynthesisFromCoal', produces=['CO2', 'Hydrogen'], consumes=['Coal', 'Water'], has_stock=False),\n",
       " Process(id='HydrogenSynthesisFromNaturalGas', produces=['CO2', 'Hydrogen'], consumes=['NaturalGas', 'Water'], has_stock=False),\n",
       " Process(id='ProducingNitricAcid', produces=['NitricAcid', 'Water'], consumes=['Ammonia', 'PureOxygen', 'Water'], has_stock=False),\n",
       " Process(id='ProducingUrea', produces=['OtherIndustrialGases', 'Urea', 'Water'], consumes=['CO2', 'Ammonia'], has_stock=False),\n",
       " Process(id='UseOfUreaFertiliser', produces=['AtmosphericCO2'], consumes=['Urea'], has_stock=False),\n",
       " Process(id='ProducingAmmoniumNitrate', produces=['AmmoniumNitrate'], consumes=['Ammonia', 'NitricAcid'], has_stock=False)]"
      ]
     },
     "execution_count": 12,
     "metadata": {},
     "output_type": "execute_result"
    }
   ],
   "source": [
    "model.processes"
   ]
  },
  {
   "cell_type": "code",
   "execution_count": 13,
   "id": "124e7f2a-3ec4-4598-9890-f541b26a742b",
   "metadata": {},
   "outputs": [
    {
     "data": {
      "text/plain": [
       "[Object(id='CO2', has_market=False),\n",
       " Object(id='Ammonia', has_market=True),\n",
       " Object(id='AmmoniumNitrate', has_market=True),\n",
       " Object(id='AtmosphericCO2', has_market=False),\n",
       " Object(id='CO2', has_market=True),\n",
       " Object(id='Coal', has_market=False),\n",
       " Object(id='Hydrogen', has_market=True),\n",
       " Object(id='NaturalGas', has_market=False),\n",
       " Object(id='NitricAcid', has_market=True),\n",
       " Object(id='Nitrogen', has_market=False),\n",
       " Object(id='OtherIndustrialGases', has_market=False),\n",
       " Object(id='PureOxygen', has_market=False),\n",
       " Object(id='Urea', has_market=True),\n",
       " Object(id='Water', has_market=False)]"
      ]
     },
     "execution_count": 13,
     "metadata": {},
     "output_type": "execute_result"
    }
   ],
   "source": [
    "model.objects"
   ]
  },
  {
   "cell_type": "code",
   "execution_count": 16,
   "id": "50c7585c-5885-4095-b8be-31fde3a5a848",
   "metadata": {},
   "outputs": [
    {
     "data": {
      "text/html": [
       "<div>\n",
       "<style scoped>\n",
       "    .dataframe tbody tr th:only-of-type {\n",
       "        vertical-align: middle;\n",
       "    }\n",
       "\n",
       "    .dataframe tbody tr th {\n",
       "        vertical-align: top;\n",
       "    }\n",
       "\n",
       "    .dataframe thead th {\n",
       "        text-align: right;\n",
       "    }\n",
       "</style>\n",
       "<table border=\"1\" class=\"dataframe\">\n",
       "  <thead>\n",
       "    <tr style=\"text-align: right;\">\n",
       "      <th></th>\n",
       "      <th>source</th>\n",
       "      <th>target</th>\n",
       "      <th>material</th>\n",
       "      <th>value</th>\n",
       "    </tr>\n",
       "  </thead>\n",
       "  <tbody>\n",
       "    <tr>\n",
       "      <th>0</th>\n",
       "      <td>AmmoniaSynthesis</td>\n",
       "      <td>Ammonia</td>\n",
       "      <td>Ammonia</td>\n",
       "      <td>5.02500000000000</td>\n",
       "    </tr>\n",
       "    <tr>\n",
       "      <th>1</th>\n",
       "      <td>ExtractCO2FromAtmosphere</td>\n",
       "      <td>CO2</td>\n",
       "      <td>CO2</td>\n",
       "      <td>1.23750000000000</td>\n",
       "    </tr>\n",
       "    <tr>\n",
       "      <th>2</th>\n",
       "      <td>HydrogenSynthesisFromCoal</td>\n",
       "      <td>CO2</td>\n",
       "      <td>CO2</td>\n",
       "      <td>1.25625000000000</td>\n",
       "    </tr>\n",
       "    <tr>\n",
       "      <th>3</th>\n",
       "      <td>HydrogenSynthesisFromCoal</td>\n",
       "      <td>Hydrogen</td>\n",
       "      <td>Hydrogen</td>\n",
       "      <td>1.25625000000000</td>\n",
       "    </tr>\n",
       "    <tr>\n",
       "      <th>4</th>\n",
       "      <td>HydrogenSynthesisFromNaturalGas</td>\n",
       "      <td>CO2</td>\n",
       "      <td>CO2</td>\n",
       "      <td>1.25625000000000</td>\n",
       "    </tr>\n",
       "    <tr>\n",
       "      <th>5</th>\n",
       "      <td>HydrogenSynthesisFromNaturalGas</td>\n",
       "      <td>Hydrogen</td>\n",
       "      <td>Hydrogen</td>\n",
       "      <td>1.25625000000000</td>\n",
       "    </tr>\n",
       "    <tr>\n",
       "      <th>6</th>\n",
       "      <td>ProducingNitricAcid</td>\n",
       "      <td>NitricAcid</td>\n",
       "      <td>NitricAcid</td>\n",
       "      <td>3.93750000000000</td>\n",
       "    </tr>\n",
       "    <tr>\n",
       "      <th>7</th>\n",
       "      <td>ProducingNitricAcid</td>\n",
       "      <td>Water</td>\n",
       "      <td>Water</td>\n",
       "      <td>1.68750000000000</td>\n",
       "    </tr>\n",
       "    <tr>\n",
       "      <th>8</th>\n",
       "      <td>ProducingUrea</td>\n",
       "      <td>OtherIndustrialGases</td>\n",
       "      <td>OtherIndustrialGases</td>\n",
       "      <td>0.150000000000000</td>\n",
       "    </tr>\n",
       "    <tr>\n",
       "      <th>9</th>\n",
       "      <td>ProducingUrea</td>\n",
       "      <td>Urea</td>\n",
       "      <td>Urea</td>\n",
       "      <td>5</td>\n",
       "    </tr>\n",
       "    <tr>\n",
       "      <th>10</th>\n",
       "      <td>ProducingUrea</td>\n",
       "      <td>Water</td>\n",
       "      <td>Water</td>\n",
       "      <td>1.50000000000000</td>\n",
       "    </tr>\n",
       "    <tr>\n",
       "      <th>11</th>\n",
       "      <td>UseOfUreaFertiliser</td>\n",
       "      <td>AtmosphericCO2</td>\n",
       "      <td>AtmosphericCO2</td>\n",
       "      <td>5.00000000000000</td>\n",
       "    </tr>\n",
       "    <tr>\n",
       "      <th>12</th>\n",
       "      <td>ProducingAmmoniumNitrate</td>\n",
       "      <td>AmmoniumNitrate</td>\n",
       "      <td>AmmoniumNitrate</td>\n",
       "      <td>5</td>\n",
       "    </tr>\n",
       "    <tr>\n",
       "      <th>13</th>\n",
       "      <td>Hydrogen</td>\n",
       "      <td>AmmoniaSynthesis</td>\n",
       "      <td>Hydrogen</td>\n",
       "      <td>2.51250000000000</td>\n",
       "    </tr>\n",
       "    <tr>\n",
       "      <th>14</th>\n",
       "      <td>Nitrogen</td>\n",
       "      <td>AmmoniaSynthesis</td>\n",
       "      <td>Nitrogen</td>\n",
       "      <td>2.51250000000000</td>\n",
       "    </tr>\n",
       "    <tr>\n",
       "      <th>15</th>\n",
       "      <td>AtmosphericCO2</td>\n",
       "      <td>ExtractCO2FromAtmosphere</td>\n",
       "      <td>AtmosphericCO2</td>\n",
       "      <td>1.23750000000000</td>\n",
       "    </tr>\n",
       "    <tr>\n",
       "      <th>16</th>\n",
       "      <td>Coal</td>\n",
       "      <td>HydrogenSynthesisFromCoal</td>\n",
       "      <td>Coal</td>\n",
       "      <td>1.25625000000000</td>\n",
       "    </tr>\n",
       "    <tr>\n",
       "      <th>17</th>\n",
       "      <td>Water</td>\n",
       "      <td>HydrogenSynthesisFromCoal</td>\n",
       "      <td>Water</td>\n",
       "      <td>1.25625000000000</td>\n",
       "    </tr>\n",
       "    <tr>\n",
       "      <th>18</th>\n",
       "      <td>NaturalGas</td>\n",
       "      <td>HydrogenSynthesisFromNaturalGas</td>\n",
       "      <td>NaturalGas</td>\n",
       "      <td>1.25625000000000</td>\n",
       "    </tr>\n",
       "    <tr>\n",
       "      <th>19</th>\n",
       "      <td>Water</td>\n",
       "      <td>HydrogenSynthesisFromNaturalGas</td>\n",
       "      <td>Water</td>\n",
       "      <td>1.25625000000000</td>\n",
       "    </tr>\n",
       "    <tr>\n",
       "      <th>20</th>\n",
       "      <td>Ammonia</td>\n",
       "      <td>ProducingNitricAcid</td>\n",
       "      <td>Ammonia</td>\n",
       "      <td>1.06250000000000</td>\n",
       "    </tr>\n",
       "    <tr>\n",
       "      <th>21</th>\n",
       "      <td>PureOxygen</td>\n",
       "      <td>ProducingNitricAcid</td>\n",
       "      <td>PureOxygen</td>\n",
       "      <td>4.00000000000000</td>\n",
       "    </tr>\n",
       "    <tr>\n",
       "      <th>22</th>\n",
       "      <td>Water</td>\n",
       "      <td>ProducingNitricAcid</td>\n",
       "      <td>Water</td>\n",
       "      <td>0.562500000000000</td>\n",
       "    </tr>\n",
       "    <tr>\n",
       "      <th>23</th>\n",
       "      <td>CO2</td>\n",
       "      <td>ProducingUrea</td>\n",
       "      <td>CO2</td>\n",
       "      <td>3.75000000000000</td>\n",
       "    </tr>\n",
       "    <tr>\n",
       "      <th>24</th>\n",
       "      <td>Ammonia</td>\n",
       "      <td>ProducingUrea</td>\n",
       "      <td>Ammonia</td>\n",
       "      <td>2.90000000000000</td>\n",
       "    </tr>\n",
       "    <tr>\n",
       "      <th>25</th>\n",
       "      <td>Urea</td>\n",
       "      <td>UseOfUreaFertiliser</td>\n",
       "      <td>Urea</td>\n",
       "      <td>5</td>\n",
       "    </tr>\n",
       "    <tr>\n",
       "      <th>26</th>\n",
       "      <td>Ammonia</td>\n",
       "      <td>ProducingAmmoniumNitrate</td>\n",
       "      <td>Ammonia</td>\n",
       "      <td>1.06250000000000</td>\n",
       "    </tr>\n",
       "    <tr>\n",
       "      <th>27</th>\n",
       "      <td>NitricAcid</td>\n",
       "      <td>ProducingAmmoniumNitrate</td>\n",
       "      <td>NitricAcid</td>\n",
       "      <td>3.93750000000000</td>\n",
       "    </tr>\n",
       "  </tbody>\n",
       "</table>\n",
       "</div>"
      ],
      "text/plain": [
       "                             source                           target  \\\n",
       "0                  AmmoniaSynthesis                          Ammonia   \n",
       "1          ExtractCO2FromAtmosphere                              CO2   \n",
       "2         HydrogenSynthesisFromCoal                              CO2   \n",
       "3         HydrogenSynthesisFromCoal                         Hydrogen   \n",
       "4   HydrogenSynthesisFromNaturalGas                              CO2   \n",
       "5   HydrogenSynthesisFromNaturalGas                         Hydrogen   \n",
       "6               ProducingNitricAcid                       NitricAcid   \n",
       "7               ProducingNitricAcid                            Water   \n",
       "8                     ProducingUrea             OtherIndustrialGases   \n",
       "9                     ProducingUrea                             Urea   \n",
       "10                    ProducingUrea                            Water   \n",
       "11              UseOfUreaFertiliser                   AtmosphericCO2   \n",
       "12         ProducingAmmoniumNitrate                  AmmoniumNitrate   \n",
       "13                         Hydrogen                 AmmoniaSynthesis   \n",
       "14                         Nitrogen                 AmmoniaSynthesis   \n",
       "15                   AtmosphericCO2         ExtractCO2FromAtmosphere   \n",
       "16                             Coal        HydrogenSynthesisFromCoal   \n",
       "17                            Water        HydrogenSynthesisFromCoal   \n",
       "18                       NaturalGas  HydrogenSynthesisFromNaturalGas   \n",
       "19                            Water  HydrogenSynthesisFromNaturalGas   \n",
       "20                          Ammonia              ProducingNitricAcid   \n",
       "21                       PureOxygen              ProducingNitricAcid   \n",
       "22                            Water              ProducingNitricAcid   \n",
       "23                              CO2                    ProducingUrea   \n",
       "24                          Ammonia                    ProducingUrea   \n",
       "25                             Urea              UseOfUreaFertiliser   \n",
       "26                          Ammonia         ProducingAmmoniumNitrate   \n",
       "27                       NitricAcid         ProducingAmmoniumNitrate   \n",
       "\n",
       "                material              value  \n",
       "0                Ammonia   5.02500000000000  \n",
       "1                    CO2   1.23750000000000  \n",
       "2                    CO2   1.25625000000000  \n",
       "3               Hydrogen   1.25625000000000  \n",
       "4                    CO2   1.25625000000000  \n",
       "5               Hydrogen   1.25625000000000  \n",
       "6             NitricAcid   3.93750000000000  \n",
       "7                  Water   1.68750000000000  \n",
       "8   OtherIndustrialGases  0.150000000000000  \n",
       "9                   Urea                  5  \n",
       "10                 Water   1.50000000000000  \n",
       "11        AtmosphericCO2   5.00000000000000  \n",
       "12       AmmoniumNitrate                  5  \n",
       "13              Hydrogen   2.51250000000000  \n",
       "14              Nitrogen   2.51250000000000  \n",
       "15        AtmosphericCO2   1.23750000000000  \n",
       "16                  Coal   1.25625000000000  \n",
       "17                 Water   1.25625000000000  \n",
       "18            NaturalGas   1.25625000000000  \n",
       "19                 Water   1.25625000000000  \n",
       "20               Ammonia   1.06250000000000  \n",
       "21            PureOxygen   4.00000000000000  \n",
       "22                 Water  0.562500000000000  \n",
       "23                   CO2   3.75000000000000  \n",
       "24               Ammonia   2.90000000000000  \n",
       "25                  Urea                  5  \n",
       "26               Ammonia   1.06250000000000  \n",
       "27            NitricAcid   3.93750000000000  "
      ]
     },
     "execution_count": 16,
     "metadata": {},
     "output_type": "execute_result"
    }
   ],
   "source": [
    "flows = solution_to_flows(model, {demand_symbols[\"Urea\"]: 5, demand_symbols[\"AmmoniumNitrate\"]: 5, h2_coal_fraction: 0.5})\n",
    "flows"
   ]
  },
  {
   "cell_type": "code",
   "execution_count": 17,
   "id": "66b95b1b-99be-4045-9d5f-f1a3188fe150",
   "metadata": {},
   "outputs": [
    {
     "data": {
      "application/vnd.jupyter.widget-view+json": {
       "model_id": "e2a466b4f4a346979c0c31fc97ff2ef4",
       "version_major": 2,
       "version_minor": 0
      },
      "text/plain": [
       "SankeyWidget(layout=Layout(height='300', width='1200'), links=[{'source': 'AmmoniaSynthesis', 'target': 'Ammon…"
      ]
     },
     "metadata": {},
     "output_type": "display_data"
    }
   ],
   "source": [
    "from ipysankeywidget import SankeyWidget\n",
    "from ipywidgets import Layout\n",
    "w = SankeyWidget(links=flows.to_dict(orient='records'), layout=Layout(width=\"1200\", height=\"300\"))\n",
    "w.order = [\n",
    "    [\"NaturalGas\", \"Coal\", \"AtmosphericCO2\"],\n",
    "    [\"HydrogenSynthesisFromNaturalGas\", \"HydrogenSynthesisFromCoal\", \"ExtractCO2FromAtmosphere\"],\n",
    "    [\"Hydrogen\", \"CO2\", \"Nitrogen\", \"PureOxygen\"],\n",
    "    [\"AmmoniaSynthesis\", \"ProducingNitricAcid\"],\n",
    "    [\"Ammonia\", \"NitricAcid\"],\n",
    "    [\"ProducingUrea\", \"ProducingAmmoniumNitrate\"],\n",
    "    [\"Urea\", \"AmmoniumNitrate\", \"Water\", \"OtherIndustrialGases\", \"WasteOtherChemicals\",],\n",
    "    [\"UseOfUreaFertiliser\"],\n",
    "]\n",
    "w"
   ]
  },
  {
   "cell_type": "code",
   "execution_count": 18,
   "id": "41ea6442-b3a2-4a97-9604-77aabbd4d784",
   "metadata": {},
   "outputs": [
    {
     "data": {
      "application/vnd.jupyter.widget-view+json": {
       "model_id": "d78f0d946f9845c3985af0d29baf26d7",
       "version_major": 2,
       "version_minor": 0
      },
      "text/plain": [
       "interactive(children=(FloatSlider(value=5.0, description='d1', max=10.0), FloatSlider(value=5.0, description='…"
      ]
     },
     "metadata": {},
     "output_type": "display_data"
    }
   ],
   "source": [
    "from ipywidgets import interact\n",
    "\n",
    "@interact(d1=(0., 10.), d2=(0., 10.), a3=(0., 1.))\n",
    "def calc_flows(d1=5.0, d2=5.0, a3=0.5):\n",
    "    flows = solution_to_flows(model, {demand_symbols[\"Urea\"]: d1, demand_symbols[\"AmmoniumNitrate\"]: d2, h2_coal_fraction: a3})\n",
    "    w.links = flows.to_dict(orient='records')"
   ]
  },
  {
   "cell_type": "code",
   "execution_count": 8,
   "id": "b21c0699-c0ce-4bc3-a59a-c8777976783d",
   "metadata": {},
   "outputs": [],
   "source": [
    "from IPython.display import display"
   ]
  },
  {
   "cell_type": "code",
   "execution_count": 9,
   "id": "d90c41cf-17f9-4892-b9f8-c3d1af085801",
   "metadata": {},
   "outputs": [
    {
     "name": "stdout",
     "output_type": "stream",
     "text": [
      "Process output: AmmoniaSynthesis\n"
     ]
    },
    {
     "data": {
      "text/latex": [
       "$\\displaystyle \\frac{U_{17} Z_{2}}{S_{10} S_{27}} + \\frac{U_{14} U_{87} Z_{2}}{S_{10} S_{27} S_{84}} + \\frac{U_{15} Z_{1}}{S_{10} S_{125}}$"
      ],
      "text/plain": [
       "U_17*Z_2/(S_10*S_27) + U_14*U_87*Z_2/(S_10*S_27*S_84) + U_15*Z_1/(S_10*S_125)"
      ]
     },
     "metadata": {},
     "output_type": "display_data"
    },
    {
     "name": "stdout",
     "output_type": "stream",
     "text": [
      "History: set output of Ammonia from AmmoniaSynthesis = U_15*Z_1/S_125\n",
      "set output of Ammonia from AmmoniaSynthesis = U_17*Z_2/S_27\n",
      "set output of Ammonia from AmmoniaSynthesis = U_14*U_87*Z_2/(S_27*S_84)\n",
      "\n",
      "\n",
      "Process output: ExtractCO2FromAtmosphere\n"
     ]
    },
    {
     "data": {
      "text/latex": [
       "$\\displaystyle \\frac{\\max\\left(0, - S_{42} \\left(\\frac{U_{17} U_{60} Z_{2} a_{1}}{S_{10} S_{27} S_{62}} + \\frac{U_{14} U_{60} U_{87} Z_{2} a_{1}}{S_{10} S_{27} S_{62} S_{84}} + \\frac{U_{15} U_{60} Z_{1} a_{1}}{S_{10} S_{125} S_{62}}\\right) - S_{43} \\left(\\frac{U_{17} U_{60} Z_{2} \\cdot \\left(1 - a_{1}\\right)}{S_{10} S_{27} S_{63}} + \\frac{U_{14} U_{60} U_{87} Z_{2} \\cdot \\left(1 - a_{1}\\right)}{S_{10} S_{27} S_{63} S_{84}} + \\frac{U_{15} U_{60} Z_{1} \\cdot \\left(1 - a_{1}\\right)}{S_{10} S_{125} S_{63}}\\right) + \\frac{U_{45} Z_{1}}{S_{125}}\\right)}{S_{41}}$"
      ],
      "text/plain": [
       "Max(0, -S_42*(U_17*U_60*Z_2*a_1/(S_10*S_27*S_62) + U_14*U_60*U_87*Z_2*a_1/(S_10*S_27*S_62*S_84) + U_15*U_60*Z_1*a_1/(S_10*S_125*S_62)) - S_43*(U_17*U_60*Z_2*(1 - a_1)/(S_10*S_27*S_63) + U_14*U_60*U_87*Z_2*(1 - a_1)/(S_10*S_27*S_63*S_84) + U_15*U_60*Z_1*(1 - a_1)/(S_10*S_125*S_63)) + U_45*Z_1/S_125)/S_41"
      ]
     },
     "metadata": {},
     "output_type": "display_data"
    },
    {
     "name": "stdout",
     "output_type": "stream",
     "text": [
      "History: additional production to balance CO2\n",
      "\n",
      "\n",
      "Process output: HydrogenSynthesisFromCoal\n"
     ]
    },
    {
     "data": {
      "text/latex": [
       "$\\displaystyle \\frac{U_{17} U_{60} Z_{2} a_{1}}{S_{10} S_{27} S_{62}} + \\frac{U_{14} U_{60} U_{87} Z_{2} a_{1}}{S_{10} S_{27} S_{62} S_{84}} + \\frac{U_{15} U_{60} Z_{1} a_{1}}{S_{10} S_{125} S_{62}}$"
      ],
      "text/plain": [
       "U_17*U_60*Z_2*a_1/(S_10*S_27*S_62) + U_14*U_60*U_87*Z_2*a_1/(S_10*S_27*S_62*S_84) + U_15*U_60*Z_1*a_1/(S_10*S_125*S_62)"
      ]
     },
     "metadata": {},
     "output_type": "display_data"
    },
    {
     "name": "stdout",
     "output_type": "stream",
     "text": [
      "History: set output of Hydrogen from HydrogenSynthesisFromCoal = U_15*U_60*Z_1*a_1/(S_10*S_125)\n",
      "set output of Hydrogen from HydrogenSynthesisFromCoal = U_17*U_60*Z_2*a_1/(S_10*S_27)\n",
      "set output of Hydrogen from HydrogenSynthesisFromCoal = U_14*U_60*U_87*Z_2*a_1/(S_10*S_27*S_84)\n",
      "\n",
      "\n",
      "Process output: HydrogenSynthesisFromNaturalGas\n"
     ]
    },
    {
     "data": {
      "text/latex": [
       "$\\displaystyle \\frac{U_{17} U_{60} Z_{2} \\cdot \\left(1 - a_{1}\\right)}{S_{10} S_{27} S_{63}} + \\frac{U_{14} U_{60} U_{87} Z_{2} \\cdot \\left(1 - a_{1}\\right)}{S_{10} S_{27} S_{63} S_{84}} + \\frac{U_{15} U_{60} Z_{1} \\cdot \\left(1 - a_{1}\\right)}{S_{10} S_{125} S_{63}}$"
      ],
      "text/plain": [
       "U_17*U_60*Z_2*(1 - a_1)/(S_10*S_27*S_63) + U_14*U_60*U_87*Z_2*(1 - a_1)/(S_10*S_27*S_63*S_84) + U_15*U_60*Z_1*(1 - a_1)/(S_10*S_125*S_63)"
      ]
     },
     "metadata": {},
     "output_type": "display_data"
    },
    {
     "name": "stdout",
     "output_type": "stream",
     "text": [
      "History: set output of Hydrogen from HydrogenSynthesisFromNaturalGas = U_15*U_60*Z_1*(1 - a_1)/(S_10*S_125)\n",
      "set output of Hydrogen from HydrogenSynthesisFromNaturalGas = U_17*U_60*Z_2*(1 - a_1)/(S_10*S_27)\n",
      "set output of Hydrogen from HydrogenSynthesisFromNaturalGas = U_14*U_60*U_87*Z_2*(1 - a_1)/(S_10*S_27*S_84)\n",
      "\n",
      "\n",
      "Process output: ProducingNitricAcid\n"
     ]
    },
    {
     "data": {
      "text/latex": [
       "$\\displaystyle \\frac{U_{87} Z_{2}}{S_{27} S_{84}}$"
      ],
      "text/plain": [
       "U_87*Z_2/(S_27*S_84)"
      ]
     },
     "metadata": {},
     "output_type": "display_data"
    },
    {
     "name": "stdout",
     "output_type": "stream",
     "text": [
      "History: set output of NitricAcid from ProducingNitricAcid = U_87*Z_2/S_27\n",
      "\n",
      "\n",
      "Process output: ProducingUrea\n"
     ]
    },
    {
     "data": {
      "text/latex": [
       "$\\displaystyle \\frac{Z_{1}}{S_{125}}$"
      ],
      "text/plain": [
       "Z_1/S_125"
      ]
     },
     "metadata": {},
     "output_type": "display_data"
    },
    {
     "name": "stdout",
     "output_type": "stream",
     "text": [
      "History: set output of Urea from ProducingUrea = Z_1\n",
      "\n",
      "\n",
      "Process output: UseOfUreaFertiliser\n"
     ]
    },
    {
     "data": {
      "text/latex": [
       "$\\displaystyle \\frac{\\max\\left(0, Z_{1}\\right)}{U_{126}}$"
      ],
      "text/plain": [
       "Max(0, Z_1)/U_126"
      ]
     },
     "metadata": {},
     "output_type": "display_data"
    },
    {
     "name": "stdout",
     "output_type": "stream",
     "text": [
      "History: additional consumption to balance Urea\n",
      "\n",
      "\n",
      "Process output: ProducingAmmoniumNitrate\n"
     ]
    },
    {
     "data": {
      "text/latex": [
       "$\\displaystyle \\frac{Z_{2}}{S_{27}}$"
      ],
      "text/plain": [
       "Z_2/S_27"
      ]
     },
     "metadata": {},
     "output_type": "display_data"
    },
    {
     "name": "stdout",
     "output_type": "stream",
     "text": [
      "History: set output of AmmoniumNitrate from ProducingAmmoniumNitrate = Z_2\n",
      "\n",
      "\n"
     ]
    }
   ],
   "source": [
    "for j, value in model.Y.items():\n",
    "    print(\"Process output: %s\" % model.processes[j].id)\n",
    "    display(value.value)\n",
    "    print(\"History:\", \"\\n\".join(value.history))\n",
    "    print(\"\\n\")"
   ]
  },
  {
   "cell_type": "code",
   "execution_count": null,
   "id": "aace24b4-0113-486d-804e-ef90151d1460",
   "metadata": {},
   "outputs": [],
   "source": []
  }
 ],
 "metadata": {
  "kernelspec": {
   "display_name": "Python 3 (ipykernel)",
   "language": "python",
   "name": "python3"
  },
  "language_info": {
   "codemirror_mode": {
    "name": "ipython",
    "version": 3
   },
   "file_extension": ".py",
   "mimetype": "text/x-python",
   "name": "python",
   "nbconvert_exporter": "python",
   "pygments_lexer": "ipython3",
   "version": "3.10.9"
  }
 },
 "nbformat": 4,
 "nbformat_minor": 5
}
