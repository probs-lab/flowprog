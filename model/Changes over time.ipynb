{
 "cells": [
  {
   "cell_type": "code",
   "execution_count": 114,
   "id": "8230d6d6-6082-4c37-88af-17c07b9eeae0",
   "metadata": {},
   "outputs": [],
   "source": [
    "import numpy as np\n",
    "import logging\n",
    "#logging.getLogger(\"imperative_model\").setLevel(logging.DEBUG)\n",
    "#logging.basicConfig(level=logging.DEBUG)"
   ]
  },
  {
   "cell_type": "code",
   "execution_count": 115,
   "id": "574faa15-034d-4fda-90bf-6ef198f6289d",
   "metadata": {},
   "outputs": [
    {
     "name": "stdout",
     "output_type": "stream",
     "text": [
      "The autoreload extension is already loaded. To reload it, use:\n",
      "  %reload_ext autoreload\n",
      "obj {rdflib.term.URIRef('http://ukfires.org/probs/system/AmmoniumNitrate'), rdflib.term.URIRef('http://ukfires.org/probs/system/Nitrogen'), rdflib.term.URIRef('http://ukfires.org/probs/system/Water'), rdflib.term.URIRef('http://ukfires.org/probs/system/Hydrogen'), rdflib.term.URIRef('http://ukfires.org/probs/system/AtmoshericCO2'), rdflib.term.URIRef('http://ukfires.org/probs/system/Urea'), rdflib.term.URIRef('http://ukfires.org/probs/system/NaturalGas'), rdflib.term.URIRef('http://ukfires.org/probs/system/PureOxygen'), rdflib.term.URIRef('http://ukfires.org/probs/system/Coal'), rdflib.term.URIRef('http://ukfires.org/probs/system/NitricAcid'), rdflib.term.URIRef('http://ukfires.org/probs/system/OtherIndustrialGases'), rdflib.term.URIRef('http://c-thru.org/analyses/calculator/system/CO2'), rdflib.term.URIRef('http://ukfires.org/probs/system/CO2'), rdflib.term.URIRef('http://ukfires.org/probs/system/Ammonia')}\n"
     ]
    }
   ],
   "source": [
    "%run repl_load_model.ipy"
   ]
  },
  {
   "cell_type": "markdown",
   "id": "98b399f3-f211-44f4-a9c1-ad1ca039fbde",
   "metadata": {},
   "source": [
    "Define a demand profile for the fertilisers"
   ]
  },
  {
   "cell_type": "code",
   "execution_count": 121,
   "id": "1bcfa40c-7ccb-4bf8-a7c4-ef1acc309820",
   "metadata": {},
   "outputs": [
    {
     "data": {
      "text/plain": [
       "array([2020, 2021, 2022, 2023, 2024, 2025, 2026, 2027, 2028, 2029, 2030,\n",
       "       2031, 2032, 2033, 2034, 2035, 2036, 2037, 2038, 2039, 2040, 2041,\n",
       "       2042, 2043, 2044, 2045, 2046, 2047, 2048, 2049, 2050])"
      ]
     },
     "execution_count": 121,
     "metadata": {},
     "output_type": "execute_result"
    }
   ],
   "source": [
    "tvals = np.arange(2020, 2051, 1)\n",
    "tvals"
   ]
  },
  {
   "cell_type": "code",
   "execution_count": 122,
   "id": "688154d0-7698-4198-b5d3-ab587ea4e53a",
   "metadata": {},
   "outputs": [
    {
     "data": {
      "text/latex": [
       "$\\displaystyle t$"
      ],
      "text/plain": [
       "t"
      ]
     },
     "execution_count": 122,
     "metadata": {},
     "output_type": "execute_result"
    }
   ],
   "source": [
    "t = sy.symbols(\"t\")\n",
    "t"
   ]
  },
  {
   "cell_type": "code",
   "execution_count": 123,
   "id": "30f07331-498b-40f5-9beb-dc5997765cff",
   "metadata": {},
   "outputs": [],
   "source": [
    "def linear_ramp(t1, t2, y1, y2):\n",
    "    frac = sy.Min(1, sy.Max(0, (t - t1) / (t2 - t1)))\n",
    "    return y1 + frac * (y2 - y1)"
   ]
  },
  {
   "cell_type": "code",
   "execution_count": 124,
   "id": "67426ff4-3a73-4cb8-91c3-2257c8b1bdbb",
   "metadata": {},
   "outputs": [
    {
     "data": {
      "text/plain": [
       "[<matplotlib.lines.Line2D at 0x1702ab010>]"
      ]
     },
     "execution_count": 124,
     "metadata": {},
     "output_type": "execute_result"
    },
    {
     "data": {
      "image/png": "[encoded data removed]",
      "text/plain": [
       "<Figure size 640x480 with 1 Axes>"
      ]
     },
     "metadata": {},
     "output_type": "display_data"
    }
   ],
   "source": [
    "import matplotlib.pyplot as plt\n",
    "plt.plot(tvals, np.vectorize(sy.lambdify(t, linear_ramp(2033, 2040, 5, 9)))(tvals))"
   ]
  },
  {
   "cell_type": "code",
   "execution_count": 126,
   "id": "7e4e3084-380e-4c00-b25f-481ce158fbe7",
   "metadata": {},
   "outputs": [
    {
     "data": {
      "text/latex": [
       "$\\displaystyle 9$"
      ],
      "text/plain": [
       "9"
      ]
     },
     "execution_count": 126,
     "metadata": {},
     "output_type": "execute_result"
    }
   ],
   "source": [
    "linear_ramp(2033, 2040, 5, 9).subs({t: 2050})"
   ]
  },
  {
   "cell_type": "code",
   "execution_count": 149,
   "id": "804676be-b1e2-44b9-a4d2-ec54deaed598",
   "metadata": {},
   "outputs": [],
   "source": [
    "import pandas as pd\n",
    "level_data = pd.read_excel(\"levers.xlsx\", header=[0, 1], index_col=[0, 1], sheet_name=\"Levels\")\n",
    "constants = pd.read_excel(\"levers.xlsx\", header=[0], index_col=[0], sheet_name=\"Constants\")"
   ]
  },
  {
   "cell_type": "code",
   "execution_count": 150,
   "id": "d5014a07-6ad3-44bd-9082-e42bc57fee88",
   "metadata": {},
   "outputs": [
    {
     "data": {
      "text/html": [
       "<div>\n",
       "<style scoped>\n",
       "    .dataframe tbody tr th:only-of-type {\n",
       "        vertical-align: middle;\n",
       "    }\n",
       "\n",
       "    .dataframe tbody tr th {\n",
       "        vertical-align: top;\n",
       "    }\n",
       "\n",
       "    .dataframe thead tr th {\n",
       "        text-align: left;\n",
       "    }\n",
       "</style>\n",
       "<table border=\"1\" class=\"dataframe\">\n",
       "  <thead>\n",
       "    <tr>\n",
       "      <th></th>\n",
       "      <th></th>\n",
       "      <th>Unnamed: 2_level_0</th>\n",
       "      <th>Unnamed: 3_level_0</th>\n",
       "      <th colspan=\"4\" halign=\"left\">Level 1</th>\n",
       "      <th colspan=\"4\" halign=\"left\">Level 2</th>\n",
       "      <th colspan=\"4\" halign=\"left\">Level 3</th>\n",
       "      <th colspan=\"4\" halign=\"left\">Level 4</th>\n",
       "    </tr>\n",
       "    <tr>\n",
       "      <th></th>\n",
       "      <th>Symbol</th>\n",
       "      <th>Description</th>\n",
       "      <th>Units</th>\n",
       "      <th>y1</th>\n",
       "      <th>y2</th>\n",
       "      <th>t1</th>\n",
       "      <th>t2</th>\n",
       "      <th>y1</th>\n",
       "      <th>y2</th>\n",
       "      <th>t1</th>\n",
       "      <th>t2</th>\n",
       "      <th>y1</th>\n",
       "      <th>y2</th>\n",
       "      <th>t1</th>\n",
       "      <th>t2</th>\n",
       "      <th>y1</th>\n",
       "      <th>y2</th>\n",
       "      <th>t1</th>\n",
       "      <th>t2</th>\n",
       "    </tr>\n",
       "  </thead>\n",
       "  <tbody>\n",
       "    <tr>\n",
       "      <th>Fertiliser demand</th>\n",
       "      <th>Z_1</th>\n",
       "      <td>Demand for Urea</td>\n",
       "      <td>kg</td>\n",
       "      <td>5</td>\n",
       "      <td>6</td>\n",
       "      <td>2020</td>\n",
       "      <td>2050</td>\n",
       "      <td>5</td>\n",
       "      <td>7</td>\n",
       "      <td>2020</td>\n",
       "      <td>2040</td>\n",
       "      <td>5</td>\n",
       "      <td>9</td>\n",
       "      <td>2020</td>\n",
       "      <td>2040</td>\n",
       "      <td>5</td>\n",
       "      <td>9</td>\n",
       "      <td>2020</td>\n",
       "      <td>2030</td>\n",
       "    </tr>\n",
       "  </tbody>\n",
       "</table>\n",
       "</div>"
      ],
      "text/plain": [
       "                      Unnamed: 2_level_0 Unnamed: 3_level_0 Level 1           \\\n",
       "Symbol                       Description              Units      y1 y2    t1   \n",
       "Fertiliser demand Z_1    Demand for Urea                 kg       5  6  2020   \n",
       "\n",
       "                            Level 2                Level 3                 \\\n",
       "Symbol                   t2      y1 y2    t1    t2      y1 y2    t1    t2   \n",
       "Fertiliser demand Z_1  2050       5  7  2020  2040       5  9  2020  2040   \n",
       "\n",
       "                      Level 4                 \n",
       "Symbol                     y1 y2    t1    t2  \n",
       "Fertiliser demand Z_1       5  9  2020  2030  "
      ]
     },
     "execution_count": 150,
     "metadata": {},
     "output_type": "execute_result"
    }
   ],
   "source": [
    "level_data"
   ]
  },
  {
   "cell_type": "code",
   "execution_count": 151,
   "id": "d010103c-0137-4ccb-ba4f-1d5e1a0c00f9",
   "metadata": {},
   "outputs": [
    {
     "data": {
      "text/html": [
       "<div>\n",
       "<style scoped>\n",
       "    .dataframe tbody tr th:only-of-type {\n",
       "        vertical-align: middle;\n",
       "    }\n",
       "\n",
       "    .dataframe tbody tr th {\n",
       "        vertical-align: top;\n",
       "    }\n",
       "\n",
       "    .dataframe thead th {\n",
       "        text-align: right;\n",
       "    }\n",
       "</style>\n",
       "<table border=\"1\" class=\"dataframe\">\n",
       "  <thead>\n",
       "    <tr style=\"text-align: right;\">\n",
       "      <th></th>\n",
       "      <th>Description</th>\n",
       "      <th>Units</th>\n",
       "      <th>Value</th>\n",
       "    </tr>\n",
       "    <tr>\n",
       "      <th>Symbol</th>\n",
       "      <th></th>\n",
       "      <th></th>\n",
       "      <th></th>\n",
       "    </tr>\n",
       "  </thead>\n",
       "  <tbody>\n",
       "    <tr>\n",
       "      <th>Z_2</th>\n",
       "      <td>Demand for AmmoniumNitrate</td>\n",
       "      <td>kg</td>\n",
       "      <td>7.0</td>\n",
       "    </tr>\n",
       "    <tr>\n",
       "      <th>a_1</th>\n",
       "      <td>H2 Coal Fraction</td>\n",
       "      <td>-</td>\n",
       "      <td>0.3</td>\n",
       "    </tr>\n",
       "  </tbody>\n",
       "</table>\n",
       "</div>"
      ],
      "text/plain": [
       "                       Description Units  Value\n",
       "Symbol                                         \n",
       "Z_2     Demand for AmmoniumNitrate    kg    7.0\n",
       "a_1               H2 Coal Fraction     -    0.3"
      ]
     },
     "execution_count": 151,
     "metadata": {},
     "output_type": "execute_result"
    }
   ],
   "source": [
    "constants"
   ]
  },
  {
   "cell_type": "code",
   "execution_count": 152,
   "id": "25a7a843-9f49-4847-b1d5-27dd52435f45",
   "metadata": {},
   "outputs": [],
   "source": [
    "def data_from_levers(levels):\n",
    "    result = {}\n",
    "    # XXX don't have to do this every time\n",
    "    for symbol, row in constants.iterrows():\n",
    "        result[symbol] = row[\"Value\"]\n",
    "    for (lever, symbol), row in level_data.iterrows():\n",
    "        if lever in levels:\n",
    "            values = row[f\"Level {levels[lever]}\"]\n",
    "            func = linear_ramp(values.t1, values.t2, values.y1, values.y2)\n",
    "            result[symbol] = func\n",
    "    return result"
   ]
  },
  {
   "cell_type": "code",
   "execution_count": 153,
   "id": "dd13d980-5d31-414c-82d9-149523326afd",
   "metadata": {},
   "outputs": [
    {
     "data": {
      "text/plain": [
       "{'Z_2': 7.0, 'a_1': 0.3, 'Z_1': 4*Min(1, Max(0, t/10 - 202)) + 5}"
      ]
     },
     "execution_count": 153,
     "metadata": {},
     "output_type": "execute_result"
    }
   ],
   "source": [
    "data_from_levers({\"Fertiliser demand\": 4})"
   ]
  },
  {
   "cell_type": "code",
   "execution_count": 154,
   "id": "50c7585c-5885-4095-b8be-31fde3a5a848",
   "metadata": {},
   "outputs": [
    {
     "data": {
      "text/html": [
       "<div>\n",
       "<style scoped>\n",
       "    .dataframe tbody tr th:only-of-type {\n",
       "        vertical-align: middle;\n",
       "    }\n",
       "\n",
       "    .dataframe tbody tr th {\n",
       "        vertical-align: top;\n",
       "    }\n",
       "\n",
       "    .dataframe thead th {\n",
       "        text-align: right;\n",
       "    }\n",
       "</style>\n",
       "<table border=\"1\" class=\"dataframe\">\n",
       "  <thead>\n",
       "    <tr style=\"text-align: right;\">\n",
       "      <th></th>\n",
       "      <th>source</th>\n",
       "      <th>target</th>\n",
       "      <th>material</th>\n",
       "      <th>value</th>\n",
       "    </tr>\n",
       "  </thead>\n",
       "  <tbody>\n",
       "    <tr>\n",
       "      <th>0</th>\n",
       "      <td>AmmoniaSynthesis</td>\n",
       "      <td>Ammonia</td>\n",
       "      <td>Ammonia</td>\n",
       "      <td>5.87500000000000</td>\n",
       "    </tr>\n",
       "    <tr>\n",
       "      <th>1</th>\n",
       "      <td>ExtractCO2FromAtmosphere</td>\n",
       "      <td>CO2</td>\n",
       "      <td>CO2</td>\n",
       "      <td>0.812500000000000</td>\n",
       "    </tr>\n",
       "    <tr>\n",
       "      <th>2</th>\n",
       "      <td>HydrogenSynthesisFromCoal</td>\n",
       "      <td>CO2</td>\n",
       "      <td>CO2</td>\n",
       "      <td>0.881250000000000</td>\n",
       "    </tr>\n",
       "    <tr>\n",
       "      <th>3</th>\n",
       "      <td>HydrogenSynthesisFromCoal</td>\n",
       "      <td>Hydrogen</td>\n",
       "      <td>Hydrogen</td>\n",
       "      <td>0.881250000000000</td>\n",
       "    </tr>\n",
       "    <tr>\n",
       "      <th>4</th>\n",
       "      <td>HydrogenSynthesisFromNaturalGas</td>\n",
       "      <td>Hydrogen</td>\n",
       "      <td>Hydrogen</td>\n",
       "      <td>2.05625000000000</td>\n",
       "    </tr>\n",
       "    <tr>\n",
       "      <th>5</th>\n",
       "      <td>HydrogenSynthesisFromNaturalGas</td>\n",
       "      <td>CO2</td>\n",
       "      <td>CO2</td>\n",
       "      <td>2.05625000000000</td>\n",
       "    </tr>\n",
       "    <tr>\n",
       "      <th>6</th>\n",
       "      <td>ProducingNitricAcid</td>\n",
       "      <td>Water</td>\n",
       "      <td>Water</td>\n",
       "      <td>2.36250000000000</td>\n",
       "    </tr>\n",
       "    <tr>\n",
       "      <th>7</th>\n",
       "      <td>ProducingNitricAcid</td>\n",
       "      <td>NitricAcid</td>\n",
       "      <td>NitricAcid</td>\n",
       "      <td>5.51250000000000</td>\n",
       "    </tr>\n",
       "    <tr>\n",
       "      <th>8</th>\n",
       "      <td>ProducingUrea</td>\n",
       "      <td>Water</td>\n",
       "      <td>Water</td>\n",
       "      <td>1.50000000000000</td>\n",
       "    </tr>\n",
       "    <tr>\n",
       "      <th>9</th>\n",
       "      <td>ProducingUrea</td>\n",
       "      <td>OtherIndustrialGases</td>\n",
       "      <td>OtherIndustrialGases</td>\n",
       "      <td>0.150000000000000</td>\n",
       "    </tr>\n",
       "    <tr>\n",
       "      <th>10</th>\n",
       "      <td>ProducingUrea</td>\n",
       "      <td>Urea</td>\n",
       "      <td>Urea</td>\n",
       "      <td>5</td>\n",
       "    </tr>\n",
       "    <tr>\n",
       "      <th>11</th>\n",
       "      <td>ProducingAmmoniumNitrate</td>\n",
       "      <td>AmmoniumNitrate</td>\n",
       "      <td>AmmoniumNitrate</td>\n",
       "      <td>7.00000000000000</td>\n",
       "    </tr>\n",
       "    <tr>\n",
       "      <th>12</th>\n",
       "      <td>Nitrogen</td>\n",
       "      <td>AmmoniaSynthesis</td>\n",
       "      <td>Nitrogen</td>\n",
       "      <td>2.93750000000000</td>\n",
       "    </tr>\n",
       "    <tr>\n",
       "      <th>13</th>\n",
       "      <td>Hydrogen</td>\n",
       "      <td>AmmoniaSynthesis</td>\n",
       "      <td>Hydrogen</td>\n",
       "      <td>2.93750000000000</td>\n",
       "    </tr>\n",
       "    <tr>\n",
       "      <th>14</th>\n",
       "      <td>AtmoshericCO2</td>\n",
       "      <td>ExtractCO2FromAtmosphere</td>\n",
       "      <td>AtmoshericCO2</td>\n",
       "      <td>0.812500000000000</td>\n",
       "    </tr>\n",
       "    <tr>\n",
       "      <th>15</th>\n",
       "      <td>Coal</td>\n",
       "      <td>HydrogenSynthesisFromCoal</td>\n",
       "      <td>Coal</td>\n",
       "      <td>0.881250000000000</td>\n",
       "    </tr>\n",
       "    <tr>\n",
       "      <th>16</th>\n",
       "      <td>Water</td>\n",
       "      <td>HydrogenSynthesisFromCoal</td>\n",
       "      <td>Water</td>\n",
       "      <td>0.881250000000000</td>\n",
       "    </tr>\n",
       "    <tr>\n",
       "      <th>17</th>\n",
       "      <td>Water</td>\n",
       "      <td>HydrogenSynthesisFromNaturalGas</td>\n",
       "      <td>Water</td>\n",
       "      <td>2.05625000000000</td>\n",
       "    </tr>\n",
       "    <tr>\n",
       "      <th>18</th>\n",
       "      <td>NaturalGas</td>\n",
       "      <td>HydrogenSynthesisFromNaturalGas</td>\n",
       "      <td>NaturalGas</td>\n",
       "      <td>2.05625000000000</td>\n",
       "    </tr>\n",
       "    <tr>\n",
       "      <th>19</th>\n",
       "      <td>PureOxygen</td>\n",
       "      <td>ProducingNitricAcid</td>\n",
       "      <td>PureOxygen</td>\n",
       "      <td>5.60000000000000</td>\n",
       "    </tr>\n",
       "    <tr>\n",
       "      <th>20</th>\n",
       "      <td>Ammonia</td>\n",
       "      <td>ProducingNitricAcid</td>\n",
       "      <td>Ammonia</td>\n",
       "      <td>1.48750000000000</td>\n",
       "    </tr>\n",
       "    <tr>\n",
       "      <th>21</th>\n",
       "      <td>Water</td>\n",
       "      <td>ProducingNitricAcid</td>\n",
       "      <td>Water</td>\n",
       "      <td>0.787500000000000</td>\n",
       "    </tr>\n",
       "    <tr>\n",
       "      <th>22</th>\n",
       "      <td>Ammonia</td>\n",
       "      <td>ProducingUrea</td>\n",
       "      <td>Ammonia</td>\n",
       "      <td>2.90000000000000</td>\n",
       "    </tr>\n",
       "    <tr>\n",
       "      <th>23</th>\n",
       "      <td>CO2</td>\n",
       "      <td>ProducingUrea</td>\n",
       "      <td>CO2</td>\n",
       "      <td>3.75000000000000</td>\n",
       "    </tr>\n",
       "    <tr>\n",
       "      <th>24</th>\n",
       "      <td>NitricAcid</td>\n",
       "      <td>ProducingAmmoniumNitrate</td>\n",
       "      <td>NitricAcid</td>\n",
       "      <td>5.51250000000000</td>\n",
       "    </tr>\n",
       "    <tr>\n",
       "      <th>25</th>\n",
       "      <td>Ammonia</td>\n",
       "      <td>ProducingAmmoniumNitrate</td>\n",
       "      <td>Ammonia</td>\n",
       "      <td>1.48750000000000</td>\n",
       "    </tr>\n",
       "  </tbody>\n",
       "</table>\n",
       "</div>"
      ],
      "text/plain": [
       "                             source                           target  \\\n",
       "0                  AmmoniaSynthesis                          Ammonia   \n",
       "1          ExtractCO2FromAtmosphere                              CO2   \n",
       "2         HydrogenSynthesisFromCoal                              CO2   \n",
       "3         HydrogenSynthesisFromCoal                         Hydrogen   \n",
       "4   HydrogenSynthesisFromNaturalGas                         Hydrogen   \n",
       "5   HydrogenSynthesisFromNaturalGas                              CO2   \n",
       "6               ProducingNitricAcid                            Water   \n",
       "7               ProducingNitricAcid                       NitricAcid   \n",
       "8                     ProducingUrea                            Water   \n",
       "9                     ProducingUrea             OtherIndustrialGases   \n",
       "10                    ProducingUrea                             Urea   \n",
       "11         ProducingAmmoniumNitrate                  AmmoniumNitrate   \n",
       "12                         Nitrogen                 AmmoniaSynthesis   \n",
       "13                         Hydrogen                 AmmoniaSynthesis   \n",
       "14                    AtmoshericCO2         ExtractCO2FromAtmosphere   \n",
       "15                             Coal        HydrogenSynthesisFromCoal   \n",
       "16                            Water        HydrogenSynthesisFromCoal   \n",
       "17                            Water  HydrogenSynthesisFromNaturalGas   \n",
       "18                       NaturalGas  HydrogenSynthesisFromNaturalGas   \n",
       "19                       PureOxygen              ProducingNitricAcid   \n",
       "20                          Ammonia              ProducingNitricAcid   \n",
       "21                            Water              ProducingNitricAcid   \n",
       "22                          Ammonia                    ProducingUrea   \n",
       "23                              CO2                    ProducingUrea   \n",
       "24                       NitricAcid         ProducingAmmoniumNitrate   \n",
       "25                          Ammonia         ProducingAmmoniumNitrate   \n",
       "\n",
       "                material              value  \n",
       "0                Ammonia   5.87500000000000  \n",
       "1                    CO2  0.812500000000000  \n",
       "2                    CO2  0.881250000000000  \n",
       "3               Hydrogen  0.881250000000000  \n",
       "4               Hydrogen   2.05625000000000  \n",
       "5                    CO2   2.05625000000000  \n",
       "6                  Water   2.36250000000000  \n",
       "7             NitricAcid   5.51250000000000  \n",
       "8                  Water   1.50000000000000  \n",
       "9   OtherIndustrialGases  0.150000000000000  \n",
       "10                  Urea                  5  \n",
       "11       AmmoniumNitrate   7.00000000000000  \n",
       "12              Nitrogen   2.93750000000000  \n",
       "13              Hydrogen   2.93750000000000  \n",
       "14         AtmoshericCO2  0.812500000000000  \n",
       "15                  Coal  0.881250000000000  \n",
       "16                 Water  0.881250000000000  \n",
       "17                 Water   2.05625000000000  \n",
       "18            NaturalGas   2.05625000000000  \n",
       "19            PureOxygen   5.60000000000000  \n",
       "20               Ammonia   1.48750000000000  \n",
       "21                 Water  0.787500000000000  \n",
       "22               Ammonia   2.90000000000000  \n",
       "23                   CO2   3.75000000000000  \n",
       "24            NitricAcid   5.51250000000000  \n",
       "25               Ammonia   1.48750000000000  "
      ]
     },
     "execution_count": 154,
     "metadata": {},
     "output_type": "execute_result"
    }
   ],
   "source": [
    "flows = solution_to_flows(model, {**data_from_levers({\"Fertiliser demand\": 4}),\n",
    "                                  t: 2020})\n",
    "flows"
   ]
  },
  {
   "cell_type": "code",
   "execution_count": 155,
   "id": "66b95b1b-99be-4045-9d5f-f1a3188fe150",
   "metadata": {},
   "outputs": [
    {
     "data": {
      "application/vnd.jupyter.widget-view+json": {
       "model_id": "c6f3590483034418a8cb0ac36cc671c5",
       "version_major": 2,
       "version_minor": 0
      },
      "text/plain": [
       "SankeyWidget(layout=Layout(height='300', width='1200'), links=[{'source': 'AmmoniaSynthesis', 'target': 'Ammon…"
      ]
     },
     "metadata": {},
     "output_type": "display_data"
    }
   ],
   "source": [
    "from ipysankeywidget import SankeyWidget\n",
    "from ipywidgets import Layout\n",
    "w = SankeyWidget(links=flows.to_dict(orient='records'), layout=Layout(width=\"1200\", height=\"300\"))\n",
    "w.order = [\n",
    "    [\"NaturalGas\", \"Coal\", \"AtmosphericCO2\"],\n",
    "    [\"HydrogenSynthesisFromNaturalGas\", \"HydrogenSynthesisFromCoal\", \"ExtractCO2FromAtmosphere\"],\n",
    "    [\"Hydrogen\", \"CO2\", \"Nitrogen\", \"PureOxygen\"],\n",
    "    [\"AmmoniaSynthesis\", \"ProducingNitricAcid\"],\n",
    "    [\"Ammonia\", \"NitricAcid\"],\n",
    "    [\"ProducingUrea\", \"ProducingAmmoniumNitrate\"],\n",
    "    [\"Urea\", \"AmmoniumNitrate\", \"Water\", \"OtherIndustrialGases\", \"WasteOtherChemicals\",],\n",
    "]\n",
    "w"
   ]
  },
  {
   "cell_type": "code",
   "execution_count": 156,
   "id": "41ea6442-b3a2-4a97-9604-77aabbd4d784",
   "metadata": {},
   "outputs": [
    {
     "data": {
      "application/vnd.jupyter.widget-view+json": {
       "model_id": "0c781b8722534e13b93dac8e5d0f3413",
       "version_major": 2,
       "version_minor": 0
      },
      "text/plain": [
       "interactive(children=(FloatSlider(value=5.0, description='d1', max=10.0), FloatSlider(value=5.0, description='…"
      ]
     },
     "metadata": {},
     "output_type": "display_data"
    }
   ],
   "source": [
    "from ipywidgets import interact\n",
    "\n",
    "@interact(d1=(0., 10.), d2=(0., 10.), a3=(0., 1.), ti=(2020., 2050.))\n",
    "def calc_flows(d1=5.0, d2=5.0, a3=0.5, ti=2020):\n",
    "    d1t = linear_ramp(2030, 2040, 5, d1)\n",
    "    flows = solution_to_flows(model, {demand_symbols[\"Urea\"]: d1t, demand_symbols[\"AmmoniumNitrate\"]: d2, h2_coal_fraction: a3, t: ti})\n",
    "    w.links = flows.to_dict(orient='records')"
   ]
  },
  {
   "cell_type": "code",
   "execution_count": 157,
   "id": "cc9ba12b-77df-40de-b01a-4df3875e6a8a",
   "metadata": {},
   "outputs": [
    {
     "data": {
      "application/vnd.jupyter.widget-view+json": {
       "model_id": "2efaeb3ff75c4d0888feb187881f84f8",
       "version_major": 2,
       "version_minor": 0
      },
      "text/plain": [
       "interactive(children=(Dropdown(description='l1', options=(1, 2, 3, 4), value=1), FloatSlider(value=2020.0, des…"
      ]
     },
     "metadata": {},
     "output_type": "display_data"
    }
   ],
   "source": [
    "@interact(l1=[1, 2, 3, 4], ti=(2020., 2050.))\n",
    "def calc_flows_levels(l1=1, ti=2020):\n",
    "    params = data_from_levers({\"Fertiliser demand\": l1})\n",
    "    flows = solution_to_flows(model, {**params, t: ti})\n",
    "    w.links = flows.to_dict(orient='records')"
   ]
  },
  {
   "cell_type": "code",
   "execution_count": 158,
   "id": "7ce7265d-3f17-4e41-8f38-87941ca56716",
   "metadata": {},
   "outputs": [
    {
     "data": {
      "image/png": "[encoded data removed]",
      "text/plain": [
       "<Figure size 640x480 with 1 Axes>"
      ]
     },
     "metadata": {},
     "output_type": "display_data"
    }
   ],
   "source": [
    "for i in [1, 2, 3, 4]:\n",
    "    plt.plot(tvals, np.vectorize(sy.lambdify(t, post[\"NG demand\"].subs(data_from_levers({\"Fertiliser demand\": i}))))(tvals))"
   ]
  },
  {
   "cell_type": "code",
   "execution_count": 37,
   "id": "b21c0699-c0ce-4bc3-a59a-c8777976783d",
   "metadata": {},
   "outputs": [],
   "source": [
    "from IPython.display import display"
   ]
  },
  {
   "cell_type": "code",
   "execution_count": 38,
   "id": "d90c41cf-17f9-4892-b9f8-c3d1af085801",
   "metadata": {},
   "outputs": [
    {
     "name": "stdout",
     "output_type": "stream",
     "text": [
      "Process output: AmmoniaSynthesis\n"
     ]
    },
    {
     "data": {
      "text/latex": [
       "$\\displaystyle \\frac{U_{16} Z_{2}}{S_{10} S_{26}} + \\frac{U_{14} U_{86} Z_{2}}{S_{10} S_{26} S_{84}} + \\frac{U_{15} Z_{1}}{S_{10} S_{125}}$"
      ],
      "text/plain": [
       "U_16*Z_2/(S_10*S_26) + U_14*U_86*Z_2/(S_10*S_26*S_84) + U_15*Z_1/(S_10*S_125)"
      ]
     },
     "metadata": {},
     "output_type": "display_data"
    },
    {
     "name": "stdout",
     "output_type": "stream",
     "text": [
      "History: set output of Ammonia from AmmoniaSynthesis = U_15*Z_1/S_125\n",
      "set output of Ammonia from AmmoniaSynthesis = U_14*U_86*Z_2/(S_26*S_84)\n",
      "set output of Ammonia from AmmoniaSynthesis = U_16*Z_2/S_26\n",
      "\n",
      "\n",
      "Process output: ExtractCO2FromAtmosphere\n"
     ]
    },
    {
     "data": {
      "text/latex": [
       "$\\displaystyle \\frac{\\max\\left(0, - S_{42} \\left(\\frac{U_{16} U_{60} Z_{2} a_{1}}{S_{10} S_{26} S_{62}} + \\frac{U_{14} U_{60} U_{86} Z_{2} a_{1}}{S_{10} S_{26} S_{62} S_{84}} + \\frac{U_{15} U_{60} Z_{1} a_{1}}{S_{10} S_{125} S_{62}}\\right) - S_{43} \\left(\\frac{U_{16} U_{60} Z_{2} \\cdot \\left(1 - a_{1}\\right)}{S_{10} S_{26} S_{63}} + \\frac{U_{14} U_{60} U_{86} Z_{2} \\cdot \\left(1 - a_{1}\\right)}{S_{10} S_{26} S_{63} S_{84}} + \\frac{U_{15} U_{60} Z_{1} \\cdot \\left(1 - a_{1}\\right)}{S_{10} S_{125} S_{63}}\\right) + \\frac{U_{45} Z_{1}}{S_{125}}\\right)}{S_{41}}$"
      ],
      "text/plain": [
       "Max(0, -S_42*(U_16*U_60*Z_2*a_1/(S_10*S_26*S_62) + U_14*U_60*U_86*Z_2*a_1/(S_10*S_26*S_62*S_84) + U_15*U_60*Z_1*a_1/(S_10*S_125*S_62)) - S_43*(U_16*U_60*Z_2*(1 - a_1)/(S_10*S_26*S_63) + U_14*U_60*U_86*Z_2*(1 - a_1)/(S_10*S_26*S_63*S_84) + U_15*U_60*Z_1*(1 - a_1)/(S_10*S_125*S_63)) + U_45*Z_1/S_125)/S_41"
      ]
     },
     "metadata": {},
     "output_type": "display_data"
    },
    {
     "name": "stdout",
     "output_type": "stream",
     "text": [
      "History: additional production to balance CO2\n",
      "\n",
      "\n",
      "Process output: HydrogenSynthesisFromCoal\n"
     ]
    },
    {
     "data": {
      "text/latex": [
       "$\\displaystyle \\frac{U_{16} U_{60} Z_{2} a_{1}}{S_{10} S_{26} S_{62}} + \\frac{U_{14} U_{60} U_{86} Z_{2} a_{1}}{S_{10} S_{26} S_{62} S_{84}} + \\frac{U_{15} U_{60} Z_{1} a_{1}}{S_{10} S_{125} S_{62}}$"
      ],
      "text/plain": [
       "U_16*U_60*Z_2*a_1/(S_10*S_26*S_62) + U_14*U_60*U_86*Z_2*a_1/(S_10*S_26*S_62*S_84) + U_15*U_60*Z_1*a_1/(S_10*S_125*S_62)"
      ]
     },
     "metadata": {},
     "output_type": "display_data"
    },
    {
     "name": "stdout",
     "output_type": "stream",
     "text": [
      "History: set output of Hydrogen from HydrogenSynthesisFromCoal = U_15*U_60*Z_1*a_1/(S_10*S_125)\n",
      "set output of Hydrogen from HydrogenSynthesisFromCoal = U_14*U_60*U_86*Z_2*a_1/(S_10*S_26*S_84)\n",
      "set output of Hydrogen from HydrogenSynthesisFromCoal = U_16*U_60*Z_2*a_1/(S_10*S_26)\n",
      "\n",
      "\n",
      "Process output: HydrogenSynthesisFromNaturalGas\n"
     ]
    },
    {
     "data": {
      "text/latex": [
       "$\\displaystyle \\frac{U_{16} U_{60} Z_{2} \\cdot \\left(1 - a_{1}\\right)}{S_{10} S_{26} S_{63}} + \\frac{U_{14} U_{60} U_{86} Z_{2} \\cdot \\left(1 - a_{1}\\right)}{S_{10} S_{26} S_{63} S_{84}} + \\frac{U_{15} U_{60} Z_{1} \\cdot \\left(1 - a_{1}\\right)}{S_{10} S_{125} S_{63}}$"
      ],
      "text/plain": [
       "U_16*U_60*Z_2*(1 - a_1)/(S_10*S_26*S_63) + U_14*U_60*U_86*Z_2*(1 - a_1)/(S_10*S_26*S_63*S_84) + U_15*U_60*Z_1*(1 - a_1)/(S_10*S_125*S_63)"
      ]
     },
     "metadata": {},
     "output_type": "display_data"
    },
    {
     "name": "stdout",
     "output_type": "stream",
     "text": [
      "History: set output of Hydrogen from HydrogenSynthesisFromNaturalGas = U_15*U_60*Z_1*(1 - a_1)/(S_10*S_125)\n",
      "set output of Hydrogen from HydrogenSynthesisFromNaturalGas = U_14*U_60*U_86*Z_2*(1 - a_1)/(S_10*S_26*S_84)\n",
      "set output of Hydrogen from HydrogenSynthesisFromNaturalGas = U_16*U_60*Z_2*(1 - a_1)/(S_10*S_26)\n",
      "\n",
      "\n",
      "Process output: ProducingNitricAcid\n"
     ]
    },
    {
     "data": {
      "text/latex": [
       "$\\displaystyle \\frac{U_{86} Z_{2}}{S_{26} S_{84}}$"
      ],
      "text/plain": [
       "U_86*Z_2/(S_26*S_84)"
      ]
     },
     "metadata": {},
     "output_type": "display_data"
    },
    {
     "name": "stdout",
     "output_type": "stream",
     "text": [
      "History: set output of NitricAcid from ProducingNitricAcid = U_86*Z_2/S_26\n",
      "\n",
      "\n",
      "Process output: ProducingUrea\n"
     ]
    },
    {
     "data": {
      "text/latex": [
       "$\\displaystyle \\frac{Z_{1}}{S_{125}}$"
      ],
      "text/plain": [
       "Z_1/S_125"
      ]
     },
     "metadata": {},
     "output_type": "display_data"
    },
    {
     "name": "stdout",
     "output_type": "stream",
     "text": [
      "History: set output of Urea from ProducingUrea = Z_1\n",
      "\n",
      "\n",
      "Process output: ProducingAmmoniumNitrate\n"
     ]
    },
    {
     "data": {
      "text/latex": [
       "$\\displaystyle \\frac{Z_{2}}{S_{26}}$"
      ],
      "text/plain": [
       "Z_2/S_26"
      ]
     },
     "metadata": {},
     "output_type": "display_data"
    },
    {
     "name": "stdout",
     "output_type": "stream",
     "text": [
      "History: set output of AmmoniumNitrate from ProducingAmmoniumNitrate = Z_2\n",
      "\n",
      "\n"
     ]
    }
   ],
   "source": [
    "for j, value in model.Y.items():\n",
    "    print(\"Process output: %s\" % model.processes[j].id)\n",
    "    display(value.value)\n",
    "    print(\"History:\", \"\\n\".join(value.history))\n",
    "    print(\"\\n\")"
   ]
  },
  {
   "cell_type": "code",
   "execution_count": null,
   "id": "aace24b4-0113-486d-804e-ef90151d1460",
   "metadata": {},
   "outputs": [],
   "source": []
  }
 ],
 "metadata": {
  "kernelspec": {
   "display_name": "Python 3 (ipykernel)",
   "language": "python",
   "name": "python3"
  },
  "language_info": {
   "codemirror_mode": {
    "name": "ipython",
    "version": 3
   },
   "file_extension": ".py",
   "mimetype": "text/x-python",
   "name": "python",
   "nbconvert_exporter": "python",
   "pygments_lexer": "ipython3",
   "version": "3.10.9"
  }
 },
 "nbformat": 4,
 "nbformat_minor": 5
}
