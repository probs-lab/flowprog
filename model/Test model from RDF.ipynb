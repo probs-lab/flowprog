{
 "cells": [
  {
   "cell_type": "code",
   "execution_count": 1,
   "id": "8230d6d6-6082-4c37-88af-17c07b9eeae0",
   "metadata": {},
   "outputs": [],
   "source": [
    "import logging\n",
    "#logging.getLogger(\"imperative_model\").setLevel(logging.DEBUG)\n",
    "#logging.basicConfig()"
   ]
  },
  {
   "cell_type": "code",
   "execution_count": 2,
   "id": "574faa15-034d-4fda-90bf-6ef198f6289d",
   "metadata": {},
   "outputs": [
    {
     "name": "stdout",
     "output_type": "stream",
     "text": [
      "obj {rdflib.term.URIRef('http://c-thru.org/analyses/calculator/system/Nitrogen'), rdflib.term.URIRef('http://c-thru.org/analyses/calculator/system/AmmoniumNitrate'), rdflib.term.URIRef('http://c-thru.org/analyses/calculator/system/NitricAcid'), rdflib.term.URIRef('http://c-thru.org/analyses/calculator/system/AtmoshericCO2'), rdflib.term.URIRef('http://c-thru.org/analyses/calculator/system/Hydrogen'), rdflib.term.URIRef('http://c-thru.org/analyses/calculator/system/Water'), rdflib.term.URIRef('http://c-thru.org/analyses/calculator/system/OtherIndustrialGases'), rdflib.term.URIRef('http://c-thru.org/analyses/calculator/system/Urea'), rdflib.term.URIRef('http://c-thru.org/analyses/calculator/system/Ammonia'), rdflib.term.URIRef('http://c-thru.org/analyses/calculator/system/Coal'), rdflib.term.URIRef('http://c-thru.org/analyses/calculator/system/WasteOtherChemicals'), rdflib.term.URIRef('http://c-thru.org/analyses/calculator/system/PureOxygen'), rdflib.term.URIRef('http://c-thru.org/analyses/calculator/system/NaturalGas'), rdflib.term.URIRef('http://c-thru.org/analyses/calculator/system/CO2')}\n"
     ]
    }
   ],
   "source": [
    "%run repl_load_model.ipy"
   ]
  },
  {
   "cell_type": "code",
   "execution_count": 3,
   "id": "50c7585c-5885-4095-b8be-31fde3a5a848",
   "metadata": {},
   "outputs": [
    {
     "data": {
      "text/html": [
       "<div>\n",
       "<style scoped>\n",
       "    .dataframe tbody tr th:only-of-type {\n",
       "        vertical-align: middle;\n",
       "    }\n",
       "\n",
       "    .dataframe tbody tr th {\n",
       "        vertical-align: top;\n",
       "    }\n",
       "\n",
       "    .dataframe thead th {\n",
       "        text-align: right;\n",
       "    }\n",
       "</style>\n",
       "<table border=\"1\" class=\"dataframe\">\n",
       "  <thead>\n",
       "    <tr style=\"text-align: right;\">\n",
       "      <th></th>\n",
       "      <th>source</th>\n",
       "      <th>target</th>\n",
       "      <th>material</th>\n",
       "      <th>value</th>\n",
       "    </tr>\n",
       "  </thead>\n",
       "  <tbody>\n",
       "    <tr>\n",
       "      <th>0</th>\n",
       "      <td>AmmoniaSynthesis</td>\n",
       "      <td>Ammonia</td>\n",
       "      <td>Ammonia</td>\n",
       "      <td>5.07936507936508</td>\n",
       "    </tr>\n",
       "    <tr>\n",
       "      <th>1</th>\n",
       "      <td>ExtractCO2FromAtmosphere</td>\n",
       "      <td>CO2</td>\n",
       "      <td>CO2</td>\n",
       "      <td>1.21031746031746</td>\n",
       "    </tr>\n",
       "    <tr>\n",
       "      <th>2</th>\n",
       "      <td>HydrogenSynthesisFromCoal</td>\n",
       "      <td>CO2</td>\n",
       "      <td>CO2</td>\n",
       "      <td>1.26984126984127</td>\n",
       "    </tr>\n",
       "    <tr>\n",
       "      <th>3</th>\n",
       "      <td>HydrogenSynthesisFromCoal</td>\n",
       "      <td>Hydrogen</td>\n",
       "      <td>Hydrogen</td>\n",
       "      <td>1.26984126984127</td>\n",
       "    </tr>\n",
       "    <tr>\n",
       "      <th>4</th>\n",
       "      <td>HydrogenSynthesisFromNaturalGas</td>\n",
       "      <td>CO2</td>\n",
       "      <td>CO2</td>\n",
       "      <td>1.26984126984127</td>\n",
       "    </tr>\n",
       "    <tr>\n",
       "      <th>5</th>\n",
       "      <td>HydrogenSynthesisFromNaturalGas</td>\n",
       "      <td>Hydrogen</td>\n",
       "      <td>Hydrogen</td>\n",
       "      <td>1.26984126984127</td>\n",
       "    </tr>\n",
       "    <tr>\n",
       "      <th>6</th>\n",
       "      <td>ProducingAmmoniumNitrate</td>\n",
       "      <td>WasteOtherChemicals</td>\n",
       "      <td>WasteOtherChemicals</td>\n",
       "      <td>0.100000000000000</td>\n",
       "    </tr>\n",
       "    <tr>\n",
       "      <th>7</th>\n",
       "      <td>ProducingAmmoniumNitrate</td>\n",
       "      <td>AmmoniumNitrate</td>\n",
       "      <td>AmmoniumNitrate</td>\n",
       "      <td>5</td>\n",
       "    </tr>\n",
       "    <tr>\n",
       "      <th>8</th>\n",
       "      <td>ProducingNitricAcid</td>\n",
       "      <td>NitricAcid</td>\n",
       "      <td>NitricAcid</td>\n",
       "      <td>4.00000000000000</td>\n",
       "    </tr>\n",
       "    <tr>\n",
       "      <th>9</th>\n",
       "      <td>ProducingNitricAcid</td>\n",
       "      <td>Water</td>\n",
       "      <td>Water</td>\n",
       "      <td>1.71428571428571</td>\n",
       "    </tr>\n",
       "    <tr>\n",
       "      <th>10</th>\n",
       "      <td>ProducingUrea</td>\n",
       "      <td>Water</td>\n",
       "      <td>Water</td>\n",
       "      <td>1.50000000000000</td>\n",
       "    </tr>\n",
       "    <tr>\n",
       "      <th>11</th>\n",
       "      <td>ProducingUrea</td>\n",
       "      <td>Urea</td>\n",
       "      <td>Urea</td>\n",
       "      <td>5</td>\n",
       "    </tr>\n",
       "    <tr>\n",
       "      <th>12</th>\n",
       "      <td>ProducingUrea</td>\n",
       "      <td>OtherIndustrialGases</td>\n",
       "      <td>OtherIndustrialGases</td>\n",
       "      <td>0.150000000000000</td>\n",
       "    </tr>\n",
       "    <tr>\n",
       "      <th>13</th>\n",
       "      <td>Nitrogen</td>\n",
       "      <td>AmmoniaSynthesis</td>\n",
       "      <td>Nitrogen</td>\n",
       "      <td>2.53968253968254</td>\n",
       "    </tr>\n",
       "    <tr>\n",
       "      <th>14</th>\n",
       "      <td>Hydrogen</td>\n",
       "      <td>AmmoniaSynthesis</td>\n",
       "      <td>Hydrogen</td>\n",
       "      <td>2.53968253968254</td>\n",
       "    </tr>\n",
       "    <tr>\n",
       "      <th>15</th>\n",
       "      <td>AtmoshericCO2</td>\n",
       "      <td>ExtractCO2FromAtmosphere</td>\n",
       "      <td>AtmoshericCO2</td>\n",
       "      <td>1.21031746031746</td>\n",
       "    </tr>\n",
       "    <tr>\n",
       "      <th>16</th>\n",
       "      <td>Coal</td>\n",
       "      <td>HydrogenSynthesisFromCoal</td>\n",
       "      <td>Coal</td>\n",
       "      <td>1.26984126984127</td>\n",
       "    </tr>\n",
       "    <tr>\n",
       "      <th>17</th>\n",
       "      <td>Water</td>\n",
       "      <td>HydrogenSynthesisFromCoal</td>\n",
       "      <td>Water</td>\n",
       "      <td>1.26984126984127</td>\n",
       "    </tr>\n",
       "    <tr>\n",
       "      <th>18</th>\n",
       "      <td>Water</td>\n",
       "      <td>HydrogenSynthesisFromNaturalGas</td>\n",
       "      <td>Water</td>\n",
       "      <td>1.26984126984127</td>\n",
       "    </tr>\n",
       "    <tr>\n",
       "      <th>19</th>\n",
       "      <td>NaturalGas</td>\n",
       "      <td>HydrogenSynthesisFromNaturalGas</td>\n",
       "      <td>NaturalGas</td>\n",
       "      <td>1.26984126984127</td>\n",
       "    </tr>\n",
       "    <tr>\n",
       "      <th>20</th>\n",
       "      <td>NitricAcid</td>\n",
       "      <td>ProducingAmmoniumNitrate</td>\n",
       "      <td>NitricAcid</td>\n",
       "      <td>4.00000000000000</td>\n",
       "    </tr>\n",
       "    <tr>\n",
       "      <th>21</th>\n",
       "      <td>Ammonia</td>\n",
       "      <td>ProducingAmmoniumNitrate</td>\n",
       "      <td>Ammonia</td>\n",
       "      <td>1.10000000000000</td>\n",
       "    </tr>\n",
       "    <tr>\n",
       "      <th>22</th>\n",
       "      <td>Ammonia</td>\n",
       "      <td>ProducingNitricAcid</td>\n",
       "      <td>Ammonia</td>\n",
       "      <td>1.07936507936508</td>\n",
       "    </tr>\n",
       "    <tr>\n",
       "      <th>23</th>\n",
       "      <td>PureOxygen</td>\n",
       "      <td>ProducingNitricAcid</td>\n",
       "      <td>PureOxygen</td>\n",
       "      <td>4.06349206349206</td>\n",
       "    </tr>\n",
       "    <tr>\n",
       "      <th>24</th>\n",
       "      <td>Water</td>\n",
       "      <td>ProducingNitricAcid</td>\n",
       "      <td>Water</td>\n",
       "      <td>0.571428571428571</td>\n",
       "    </tr>\n",
       "    <tr>\n",
       "      <th>25</th>\n",
       "      <td>CO2</td>\n",
       "      <td>ProducingUrea</td>\n",
       "      <td>CO2</td>\n",
       "      <td>3.75000000000000</td>\n",
       "    </tr>\n",
       "    <tr>\n",
       "      <th>26</th>\n",
       "      <td>Ammonia</td>\n",
       "      <td>ProducingUrea</td>\n",
       "      <td>Ammonia</td>\n",
       "      <td>2.90000000000000</td>\n",
       "    </tr>\n",
       "  </tbody>\n",
       "</table>\n",
       "</div>"
      ],
      "text/plain": [
       "                             source                           target  \\\n",
       "0                  AmmoniaSynthesis                          Ammonia   \n",
       "1          ExtractCO2FromAtmosphere                              CO2   \n",
       "2         HydrogenSynthesisFromCoal                              CO2   \n",
       "3         HydrogenSynthesisFromCoal                         Hydrogen   \n",
       "4   HydrogenSynthesisFromNaturalGas                              CO2   \n",
       "5   HydrogenSynthesisFromNaturalGas                         Hydrogen   \n",
       "6          ProducingAmmoniumNitrate              WasteOtherChemicals   \n",
       "7          ProducingAmmoniumNitrate                  AmmoniumNitrate   \n",
       "8               ProducingNitricAcid                       NitricAcid   \n",
       "9               ProducingNitricAcid                            Water   \n",
       "10                    ProducingUrea                            Water   \n",
       "11                    ProducingUrea                             Urea   \n",
       "12                    ProducingUrea             OtherIndustrialGases   \n",
       "13                         Nitrogen                 AmmoniaSynthesis   \n",
       "14                         Hydrogen                 AmmoniaSynthesis   \n",
       "15                    AtmoshericCO2         ExtractCO2FromAtmosphere   \n",
       "16                             Coal        HydrogenSynthesisFromCoal   \n",
       "17                            Water        HydrogenSynthesisFromCoal   \n",
       "18                            Water  HydrogenSynthesisFromNaturalGas   \n",
       "19                       NaturalGas  HydrogenSynthesisFromNaturalGas   \n",
       "20                       NitricAcid         ProducingAmmoniumNitrate   \n",
       "21                          Ammonia         ProducingAmmoniumNitrate   \n",
       "22                          Ammonia              ProducingNitricAcid   \n",
       "23                       PureOxygen              ProducingNitricAcid   \n",
       "24                            Water              ProducingNitricAcid   \n",
       "25                              CO2                    ProducingUrea   \n",
       "26                          Ammonia                    ProducingUrea   \n",
       "\n",
       "                material              value  \n",
       "0                Ammonia   5.07936507936508  \n",
       "1                    CO2   1.21031746031746  \n",
       "2                    CO2   1.26984126984127  \n",
       "3               Hydrogen   1.26984126984127  \n",
       "4                    CO2   1.26984126984127  \n",
       "5               Hydrogen   1.26984126984127  \n",
       "6    WasteOtherChemicals  0.100000000000000  \n",
       "7        AmmoniumNitrate                  5  \n",
       "8             NitricAcid   4.00000000000000  \n",
       "9                  Water   1.71428571428571  \n",
       "10                 Water   1.50000000000000  \n",
       "11                  Urea                  5  \n",
       "12  OtherIndustrialGases  0.150000000000000  \n",
       "13              Nitrogen   2.53968253968254  \n",
       "14              Hydrogen   2.53968253968254  \n",
       "15         AtmoshericCO2   1.21031746031746  \n",
       "16                  Coal   1.26984126984127  \n",
       "17                 Water   1.26984126984127  \n",
       "18                 Water   1.26984126984127  \n",
       "19            NaturalGas   1.26984126984127  \n",
       "20            NitricAcid   4.00000000000000  \n",
       "21               Ammonia   1.10000000000000  \n",
       "22               Ammonia   1.07936507936508  \n",
       "23            PureOxygen   4.06349206349206  \n",
       "24                 Water  0.571428571428571  \n",
       "25                   CO2   3.75000000000000  \n",
       "26               Ammonia   2.90000000000000  "
      ]
     },
     "execution_count": 3,
     "metadata": {},
     "output_type": "execute_result"
    }
   ],
   "source": [
    "flows = solution_to_flows(model, {demand_symbols[\"Urea\"]: 5, demand_symbols[\"AmmoniumNitrate\"]: 5, h2_coal_fraction: 0.5})\n",
    "flows"
   ]
  },
  {
   "cell_type": "code",
   "execution_count": 4,
   "id": "892c8ebb-70ce-4ff9-a09f-6a55f8bde20f",
   "metadata": {},
   "outputs": [
    {
     "data": {
      "text/plain": [
       "[Process(id='AmmoniaSynthesis', produces=['Ammonia'], consumes=['Nitrogen', 'Hydrogen'], has_stock=False),\n",
       " Process(id='ExtractCO2FromAtmosphere', produces=['CO2'], consumes=['AtmoshericCO2'], has_stock=False),\n",
       " Process(id='HydrogenSynthesisFromCoal', produces=['CO2', 'Hydrogen'], consumes=['Coal', 'Water'], has_stock=False),\n",
       " Process(id='HydrogenSynthesisFromNaturalGas', produces=['CO2', 'Hydrogen'], consumes=['Water', 'NaturalGas'], has_stock=False),\n",
       " Process(id='ProducingAmmoniumNitrate', produces=['WasteOtherChemicals', 'AmmoniumNitrate'], consumes=['NitricAcid', 'Ammonia'], has_stock=False),\n",
       " Process(id='ProducingNitricAcid', produces=['NitricAcid', 'Water'], consumes=['Ammonia', 'PureOxygen', 'Water'], has_stock=False),\n",
       " Process(id='ProducingUrea', produces=['Water', 'Urea', 'OtherIndustrialGases'], consumes=['CO2', 'Ammonia'], has_stock=False)]"
      ]
     },
     "execution_count": 4,
     "metadata": {},
     "output_type": "execute_result"
    }
   ],
   "source": [
    "model.processes"
   ]
  },
  {
   "cell_type": "code",
   "execution_count": 5,
   "id": "66b95b1b-99be-4045-9d5f-f1a3188fe150",
   "metadata": {},
   "outputs": [
    {
     "data": {
      "application/vnd.jupyter.widget-view+json": {
       "model_id": "933ed1091cb245f7b22f75979f7cbb3e",
       "version_major": 2,
       "version_minor": 0
      },
      "text/plain": [
       "SankeyWidget(layout=Layout(height='300', width='1200'), links=[{'source': 'AmmoniaSynthesis', 'target': 'Ammon…"
      ]
     },
     "metadata": {},
     "output_type": "display_data"
    }
   ],
   "source": [
    "from ipysankeywidget import SankeyWidget\n",
    "from ipywidgets import Layout\n",
    "w = SankeyWidget(links=flows.to_dict(orient='records'), layout=Layout(width=\"1200\", height=\"300\"))\n",
    "w.order = [\n",
    "    [\"NaturalGas\", \"Coal\"],\n",
    "    [\"HydrogenSynthesisFromNaturalGas\", \"HydrogenSynthesisFromCoal\", \"ExtractCO2FromAtmosphere\"],\n",
    "    [\"Hydrogen\", \"CO2\", \"Nitrogen\", \"PureOxygen\"],\n",
    "    [\"AmmoniaSynthesis\", \"ProducingNitricAcid\"],\n",
    "    [\"Ammonia\", \"NitricAcid\"],\n",
    "    [\"ProducingUrea\", \"ProducingAmmoniumNitrate\"],\n",
    "    [\"Urea\", \"AmmoniumNitrate\", \"Water\", \"OtherIndustrialGases\", \"WasteOtherChemicals\",],\n",
    "]\n",
    "w"
   ]
  },
  {
   "cell_type": "code",
   "execution_count": 6,
   "id": "41ea6442-b3a2-4a97-9604-77aabbd4d784",
   "metadata": {},
   "outputs": [
    {
     "data": {
      "application/vnd.jupyter.widget-view+json": {
       "model_id": "e94a2f2f5a9c418ba8a0ad5f40a3396f",
       "version_major": 2,
       "version_minor": 0
      },
      "text/plain": [
       "interactive(children=(FloatSlider(value=5.0, description='d1', max=10.0), FloatSlider(value=5.0, description='…"
      ]
     },
     "metadata": {},
     "output_type": "display_data"
    }
   ],
   "source": [
    "from ipywidgets import interact\n",
    "\n",
    "@interact(d1=(0., 10.), d2=(0., 10.), a3=(0., 1.))\n",
    "def calc_flows(d1=5.0, d2=5.0, a3=0.5):\n",
    "    flows = solution_to_flows(model, {demand_symbols[\"Urea\"]: d1, demand_symbols[\"AmmoniumNitrate\"]: d2, h2_coal_fraction: a3})\n",
    "    w.links = flows.to_dict(orient='records')"
   ]
  },
  {
   "cell_type": "code",
   "execution_count": 29,
   "id": "b21c0699-c0ce-4bc3-a59a-c8777976783d",
   "metadata": {},
   "outputs": [],
   "source": [
    "from IPython.display import display"
   ]
  },
  {
   "cell_type": "code",
   "execution_count": 30,
   "id": "d90c41cf-17f9-4892-b9f8-c3d1af085801",
   "metadata": {},
   "outputs": [
    {
     "name": "stdout",
     "output_type": "stream",
     "text": [
      "Process output: AmmoniaSynthesis\n"
     ]
    },
    {
     "data": {
      "text/latex": [
       "$\\displaystyle \\frac{U_{04} Z_{1}}{S_{00} S_{94}} + \\frac{U_{03} Z_{2}}{S_{00} S_{13}}$"
      ],
      "text/plain": [
       "U_04*Z_1/(S_00*S_94) + U_03*Z_2/(S_00*S_13)"
      ]
     },
     "metadata": {},
     "output_type": "display_data"
    },
    {
     "name": "stdout",
     "output_type": "stream",
     "text": [
      "History: set output of Ammonia from AmmoniaSynthesis = U_04*Z_1/S_94\n",
      "set output of Ammonia from AmmoniaSynthesis = U_03*Z_2/S_13\n",
      "\n",
      "\n",
      "Process output: HydrogenSynthesisFromCoal\n"
     ]
    },
    {
     "data": {
      "text/latex": [
       "$\\displaystyle \\frac{U_{04} U_{40} Z_{1} a_{1}}{S_{00} S_{41} S_{94}} + \\frac{U_{03} U_{40} Z_{2} a_{1}}{S_{00} S_{13} S_{41}}$"
      ],
      "text/plain": [
       "U_04*U_40*Z_1*a_1/(S_00*S_41*S_94) + U_03*U_40*Z_2*a_1/(S_00*S_13*S_41)"
      ]
     },
     "metadata": {},
     "output_type": "display_data"
    },
    {
     "name": "stdout",
     "output_type": "stream",
     "text": [
      "History: set output of Hydrogen from HydrogenSynthesisFromCoal = U_04*U_40*Z_1*a_1/(S_00*S_94)\n",
      "set output of Hydrogen from HydrogenSynthesisFromCoal = U_03*U_40*Z_2*a_1/(S_00*S_13)\n",
      "\n",
      "\n",
      "Process output: HydrogenSynthesisFromNaturalGas\n"
     ]
    },
    {
     "data": {
      "text/latex": [
       "$\\displaystyle \\frac{U_{04} U_{40} Z_{1} \\cdot \\left(1 - a_{1}\\right)}{S_{00} S_{42} S_{94}} + \\frac{U_{03} U_{40} Z_{2} \\cdot \\left(1 - a_{1}\\right)}{S_{00} S_{13} S_{42}}$"
      ],
      "text/plain": [
       "U_04*U_40*Z_1*(1 - a_1)/(S_00*S_42*S_94) + U_03*U_40*Z_2*(1 - a_1)/(S_00*S_13*S_42)"
      ]
     },
     "metadata": {},
     "output_type": "display_data"
    },
    {
     "name": "stdout",
     "output_type": "stream",
     "text": [
      "History: set output of Hydrogen from HydrogenSynthesisFromNaturalGas = U_04*U_40*Z_1*(1 - a_1)/(S_00*S_94)\n",
      "set output of Hydrogen from HydrogenSynthesisFromNaturalGas = U_03*U_40*Z_2*(1 - a_1)/(S_00*S_13)\n",
      "\n",
      "\n",
      "Process output: ProducingAmmoniumNitrate\n"
     ]
    },
    {
     "data": {
      "text/latex": [
       "$\\displaystyle \\frac{Z_{2}}{S_{13}}$"
      ],
      "text/plain": [
       "Z_2/S_13"
      ]
     },
     "metadata": {},
     "output_type": "display_data"
    },
    {
     "name": "stdout",
     "output_type": "stream",
     "text": [
      "History: set output of AmmoniumNitrate from ProducingAmmoniumNitrate = Z_2\n",
      "\n",
      "\n",
      "Process output: ProducingUrea\n"
     ]
    },
    {
     "data": {
      "text/latex": [
       "$\\displaystyle \\frac{Z_{1}}{S_{94}}$"
      ],
      "text/plain": [
       "Z_1/S_94"
      ]
     },
     "metadata": {},
     "output_type": "display_data"
    },
    {
     "name": "stdout",
     "output_type": "stream",
     "text": [
      "History: set output of Urea from ProducingUrea = Z_1\n",
      "\n",
      "\n"
     ]
    }
   ],
   "source": [
    "for j, value in model.Y.items():\n",
    "    print(\"Process output: %s\" % model.processes[j].id)\n",
    "    display(value.value)\n",
    "    print(\"History:\", \"\\n\".join(value.history))\n",
    "    print(\"\\n\")"
   ]
  },
  {
   "cell_type": "code",
   "execution_count": null,
   "id": "aace24b4-0113-486d-804e-ef90151d1460",
   "metadata": {},
   "outputs": [],
   "source": []
  }
 ],
 "metadata": {
  "kernelspec": {
   "display_name": "Python 3 (ipykernel)",
   "language": "python",
   "name": "python3"
  },
  "language_info": {
   "codemirror_mode": {
    "name": "ipython",
    "version": 3
   },
   "file_extension": ".py",
   "mimetype": "text/x-python",
   "name": "python",
   "nbconvert_exporter": "python",
   "pygments_lexer": "ipython3",
   "version": "3.10.9"
  }
 },
 "nbformat": 4,
 "nbformat_minor": 5
}
