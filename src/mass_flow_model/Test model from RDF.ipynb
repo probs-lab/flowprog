{
 "cells": [
  {
   "cell_type": "code",
   "execution_count": 8,
   "id": "574faa15-034d-4fda-90bf-6ef198f6289d",
   "metadata": {},
   "outputs": [
    {
     "name": "stdout",
     "output_type": "stream",
     "text": [
      "The autoreload extension is already loaded. To reload it, use:\n",
      "  %reload_ext autoreload\n"
     ]
    }
   ],
   "source": [
    "%run repl_load_model.ipy"
   ]
  },
  {
   "cell_type": "code",
   "execution_count": 10,
   "id": "50c7585c-5885-4095-b8be-31fde3a5a848",
   "metadata": {},
   "outputs": [
    {
     "data": {
      "text/html": [
       "<div>\n",
       "<style scoped>\n",
       "    .dataframe tbody tr th:only-of-type {\n",
       "        vertical-align: middle;\n",
       "    }\n",
       "\n",
       "    .dataframe tbody tr th {\n",
       "        vertical-align: top;\n",
       "    }\n",
       "\n",
       "    .dataframe thead th {\n",
       "        text-align: right;\n",
       "    }\n",
       "</style>\n",
       "<table border=\"1\" class=\"dataframe\">\n",
       "  <thead>\n",
       "    <tr style=\"text-align: right;\">\n",
       "      <th></th>\n",
       "      <th>source</th>\n",
       "      <th>target</th>\n",
       "      <th>material</th>\n",
       "      <th>value</th>\n",
       "    </tr>\n",
       "  </thead>\n",
       "  <tbody>\n",
       "    <tr>\n",
       "      <th>0</th>\n",
       "      <td>AmmoniaSynthesis</td>\n",
       "      <td>Ammonia</td>\n",
       "      <td>Ammonia</td>\n",
       "      <td>2.90000000000000</td>\n",
       "    </tr>\n",
       "    <tr>\n",
       "      <th>1</th>\n",
       "      <td>HydrogenSynthesisFromCoal</td>\n",
       "      <td>CO2</td>\n",
       "      <td>CO2</td>\n",
       "      <td>0.725000000000000</td>\n",
       "    </tr>\n",
       "    <tr>\n",
       "      <th>2</th>\n",
       "      <td>HydrogenSynthesisFromCoal</td>\n",
       "      <td>Hydrogen</td>\n",
       "      <td>Hydrogen</td>\n",
       "      <td>0.725000000000000</td>\n",
       "    </tr>\n",
       "    <tr>\n",
       "      <th>3</th>\n",
       "      <td>HydrogenSynthesisFromNaturalGas</td>\n",
       "      <td>CO2</td>\n",
       "      <td>CO2</td>\n",
       "      <td>0.725000000000000</td>\n",
       "    </tr>\n",
       "    <tr>\n",
       "      <th>4</th>\n",
       "      <td>HydrogenSynthesisFromNaturalGas</td>\n",
       "      <td>Hydrogen</td>\n",
       "      <td>Hydrogen</td>\n",
       "      <td>0.725000000000000</td>\n",
       "    </tr>\n",
       "    <tr>\n",
       "      <th>5</th>\n",
       "      <td>ProducingUrea</td>\n",
       "      <td>OtherIndustrialGases</td>\n",
       "      <td>OtherIndustrialGases</td>\n",
       "      <td>0.150000000000000</td>\n",
       "    </tr>\n",
       "    <tr>\n",
       "      <th>6</th>\n",
       "      <td>ProducingUrea</td>\n",
       "      <td>Water</td>\n",
       "      <td>Water</td>\n",
       "      <td>1.50000000000000</td>\n",
       "    </tr>\n",
       "    <tr>\n",
       "      <th>7</th>\n",
       "      <td>ProducingUrea</td>\n",
       "      <td>Urea</td>\n",
       "      <td>Urea</td>\n",
       "      <td>5</td>\n",
       "    </tr>\n",
       "    <tr>\n",
       "      <th>8</th>\n",
       "      <td>Hydrogen</td>\n",
       "      <td>AmmoniaSynthesis</td>\n",
       "      <td>Hydrogen</td>\n",
       "      <td>1.45000000000000</td>\n",
       "    </tr>\n",
       "    <tr>\n",
       "      <th>9</th>\n",
       "      <td>Nitrogen</td>\n",
       "      <td>AmmoniaSynthesis</td>\n",
       "      <td>Nitrogen</td>\n",
       "      <td>1.45000000000000</td>\n",
       "    </tr>\n",
       "    <tr>\n",
       "      <th>10</th>\n",
       "      <td>Water</td>\n",
       "      <td>HydrogenSynthesisFromCoal</td>\n",
       "      <td>Water</td>\n",
       "      <td>0.725000000000000</td>\n",
       "    </tr>\n",
       "    <tr>\n",
       "      <th>11</th>\n",
       "      <td>Coal</td>\n",
       "      <td>HydrogenSynthesisFromCoal</td>\n",
       "      <td>Coal</td>\n",
       "      <td>0.725000000000000</td>\n",
       "    </tr>\n",
       "    <tr>\n",
       "      <th>12</th>\n",
       "      <td>Water</td>\n",
       "      <td>HydrogenSynthesisFromNaturalGas</td>\n",
       "      <td>Water</td>\n",
       "      <td>0.725000000000000</td>\n",
       "    </tr>\n",
       "    <tr>\n",
       "      <th>13</th>\n",
       "      <td>NaturalGas</td>\n",
       "      <td>HydrogenSynthesisFromNaturalGas</td>\n",
       "      <td>NaturalGas</td>\n",
       "      <td>0.725000000000000</td>\n",
       "    </tr>\n",
       "    <tr>\n",
       "      <th>14</th>\n",
       "      <td>Ammonia</td>\n",
       "      <td>ProducingUrea</td>\n",
       "      <td>Ammonia</td>\n",
       "      <td>2.90000000000000</td>\n",
       "    </tr>\n",
       "    <tr>\n",
       "      <th>15</th>\n",
       "      <td>CO2</td>\n",
       "      <td>ProducingUrea</td>\n",
       "      <td>CO2</td>\n",
       "      <td>3.75000000000000</td>\n",
       "    </tr>\n",
       "  </tbody>\n",
       "</table>\n",
       "</div>"
      ],
      "text/plain": [
       "                             source                           target  \\\n",
       "0                  AmmoniaSynthesis                          Ammonia   \n",
       "1         HydrogenSynthesisFromCoal                              CO2   \n",
       "2         HydrogenSynthesisFromCoal                         Hydrogen   \n",
       "3   HydrogenSynthesisFromNaturalGas                              CO2   \n",
       "4   HydrogenSynthesisFromNaturalGas                         Hydrogen   \n",
       "5                     ProducingUrea             OtherIndustrialGases   \n",
       "6                     ProducingUrea                            Water   \n",
       "7                     ProducingUrea                             Urea   \n",
       "8                          Hydrogen                 AmmoniaSynthesis   \n",
       "9                          Nitrogen                 AmmoniaSynthesis   \n",
       "10                            Water        HydrogenSynthesisFromCoal   \n",
       "11                             Coal        HydrogenSynthesisFromCoal   \n",
       "12                            Water  HydrogenSynthesisFromNaturalGas   \n",
       "13                       NaturalGas  HydrogenSynthesisFromNaturalGas   \n",
       "14                          Ammonia                    ProducingUrea   \n",
       "15                              CO2                    ProducingUrea   \n",
       "\n",
       "                material              value  \n",
       "0                Ammonia   2.90000000000000  \n",
       "1                    CO2  0.725000000000000  \n",
       "2               Hydrogen  0.725000000000000  \n",
       "3                    CO2  0.725000000000000  \n",
       "4               Hydrogen  0.725000000000000  \n",
       "5   OtherIndustrialGases  0.150000000000000  \n",
       "6                  Water   1.50000000000000  \n",
       "7                   Urea                  5  \n",
       "8               Hydrogen   1.45000000000000  \n",
       "9               Nitrogen   1.45000000000000  \n",
       "10                 Water  0.725000000000000  \n",
       "11                  Coal  0.725000000000000  \n",
       "12                 Water  0.725000000000000  \n",
       "13            NaturalGas  0.725000000000000  \n",
       "14               Ammonia   2.90000000000000  \n",
       "15                   CO2   3.75000000000000  "
      ]
     },
     "execution_count": 10,
     "metadata": {},
     "output_type": "execute_result"
    }
   ],
   "source": [
    "flows = solution_to_flows(model, {demand_urea: 5, h2_coal_fraction: 0.5})\n",
    "flows"
   ]
  },
  {
   "cell_type": "code",
   "execution_count": 12,
   "id": "66b95b1b-99be-4045-9d5f-f1a3188fe150",
   "metadata": {},
   "outputs": [
    {
     "data": {
      "application/vnd.jupyter.widget-view+json": {
       "model_id": "6978e65012fc4b2dbd99238a8b434d56",
       "version_major": 2,
       "version_minor": 0
      },
      "text/plain": [
       "SankeyWidget(layout=Layout(height='300', width='1200'), links=[{'source': 'AmmoniaSynthesis', 'target': 'Ammon…"
      ]
     },
     "metadata": {},
     "output_type": "display_data"
    }
   ],
   "source": [
    "from ipysankeywidget import SankeyWidget\n",
    "from ipywidgets import Layout\n",
    "w = SankeyWidget(links=flows.to_dict(orient='records'), layout=Layout(width=\"1200\", height=\"300\"))\n",
    "w.order = [\n",
    "    [\"NaturalGas\", \"Coal\"],\n",
    "    [\"HydrogenSynthesisFromNaturalGas\", \"HydrogenSynthesisFromCoal\"],\n",
    "    [\"Hydrogen\", \"CO2\", \"Nitrogen\"],\n",
    "    [\"AmmoniaSynthesis\"],\n",
    "    [\"Ammonia\"],\n",
    "    [\"ProducingUrea\"],\n",
    "    [\"Urea\", \"Water\", \"OtherIndustrialGases\"],\n",
    "]\n",
    "w"
   ]
  },
  {
   "cell_type": "code",
   "execution_count": 13,
   "id": "41ea6442-b3a2-4a97-9604-77aabbd4d784",
   "metadata": {},
   "outputs": [
    {
     "data": {
      "application/vnd.jupyter.widget-view+json": {
       "model_id": "53505677ac884dfeb6280d8c6ba4da10",
       "version_major": 2,
       "version_minor": 0
      },
      "text/plain": [
       "interactive(children=(FloatSlider(value=5.0, description='d1', max=10.0), FloatSlider(value=0.5, description='…"
      ]
     },
     "metadata": {},
     "output_type": "display_data"
    }
   ],
   "source": [
    "from ipywidgets import interact\n",
    "\n",
    "@interact(d1=(0., 10.), a3=(0., 1.))\n",
    "def calc_flows(d1=5.0, a3=0.5):\n",
    "    flows = solution_to_flows(model, {demand_urea: d1, h2_coal_fraction: a3})\n",
    "    w.links = flows.to_dict(orient='records')"
   ]
  },
  {
   "cell_type": "code",
   "execution_count": 7,
   "id": "b21c0699-c0ce-4bc3-a59a-c8777976783d",
   "metadata": {},
   "outputs": [],
   "source": []
  },
  {
   "cell_type": "code",
   "execution_count": null,
   "id": "d90c41cf-17f9-4892-b9f8-c3d1af085801",
   "metadata": {},
   "outputs": [],
   "source": []
  }
 ],
 "metadata": {
  "kernelspec": {
   "display_name": "Python 3 (ipykernel)",
   "language": "python",
   "name": "python3"
  },
  "language_info": {
   "codemirror_mode": {
    "name": "ipython",
    "version": 3
   },
   "file_extension": ".py",
   "mimetype": "text/x-python",
   "name": "python",
   "nbconvert_exporter": "python",
   "pygments_lexer": "ipython3",
   "version": "3.10.9"
  }
 },
 "nbformat": 4,
 "nbformat_minor": 5
}
